{
 "cells": [
  {
   "cell_type": "markdown",
   "metadata": {},
   "source": [
    "# Tabular data analysis with `pandas`"
   ]
  },
  {
   "cell_type": "markdown",
   "metadata": {},
   "source": [
    ":::{note}\n",
    "If you have not yet set up Python on your computer, you can execute this tutorial in your browser via [Google Colab](https://colab.research.google.com/). Click on the rocket in the top right corner and launch \"Colab\". If that doesn't work download the `.ipynb` file and import it in [Google Colab](https://colab.research.google.com/).\n",
    "\n",
    "Then install `pandas` and `numpy` by executing the following command in a Jupyter cell at the top of the notebook.\n",
    "\n",
    "```sh\n",
    "!pip install -q pandas numpy\n",
    "```\n",
    ":::"
   ]
  },
  {
   "cell_type": "markdown",
   "metadata": {},
   "source": [
    "[Pandas](http://pandas.pydata.org/) is a an open source library providing tabular data structures and data analysis tools.In other words, if you can imagine the data in an Excel spreadsheet, then Pandas is the tool for the job."
   ]
  },
  {
   "cell_type": "markdown",
   "metadata": {},
   "source": [
    "<img src=\"https://media.geeksforgeeks.org/wp-content/cdn-uploads/creating_dataframe1.png\" width=\"720px\" />"
   ]
  },
  {
   "cell_type": "markdown",
   "metadata": {},
   "source": [
    ":::{note}\n",
    "Documentation for this package is available at https://pandas.pydata.org/docs/.\n",
    ":::"
   ]
  },
  {
   "cell_type": "markdown",
   "metadata": {},
   "source": [
    "## Package Imports\n",
    "\n",
    "This will be our first experience with _importing_ a package.\n",
    "\n",
    "Usually we import `pandas` with the _alias_ `pd`.\n",
    "\n",
    "We might also need `numpy`, Python's main library for numerical computations."
   ]
  },
  {
   "cell_type": "code",
   "execution_count": 35,
   "metadata": {},
   "outputs": [],
   "source": [
    "import pandas as pd\n",
    "import numpy as np"
   ]
  },
  {
   "cell_type": "markdown",
   "metadata": {
    "tags": []
   },
   "source": [
    "## Series\n",
    "\n",
    "A Series represents a one-dimensional array of data. It is similar to a dictionary consisting of an **index** and **values**, but has more functions. \n",
    "\n",
    ":::{note}\n",
    "Example data on Germany's final six nuclear power plants is from [Wikipedia](https://en.wikipedia.org/wiki/List_of_power_stations_in_Germany#Nuclear).\n",
    ":::"
   ]
  },
  {
   "cell_type": "code",
   "execution_count": 36,
   "metadata": {},
   "outputs": [
    {
     "data": {
      "text/plain": [
       "Neckarwestheim    1269\n",
       "Isar 2            1365\n",
       "Emsland           1290\n",
       "dtype: int64"
      ]
     },
     "execution_count": 36,
     "metadata": {},
     "output_type": "execute_result"
    }
   ],
   "source": [
    "names = [\"Neckarwestheim\", \"Isar 2\", \"Emsland\"]\n",
    "values = [1269, 1365, 1290]\n",
    "s = pd.Series(values, index=names)\n",
    "s"
   ]
  },
  {
   "cell_type": "code",
   "execution_count": 37,
   "metadata": {},
   "outputs": [
    {
     "data": {
      "text/plain": [
       "Neckarwestheim    1269\n",
       "Isar 2            1365\n",
       "Emsland           1290\n",
       "dtype: int64"
      ]
     },
     "execution_count": 37,
     "metadata": {},
     "output_type": "execute_result"
    }
   ],
   "source": [
    "dictionary = {\n",
    "    \"Neckarwestheim\": 1269,\n",
    "    \"Isar 2\": 1365,\n",
    "    \"Emsland\": 1290,\n",
    "}\n",
    "s = pd.Series(dictionary)\n",
    "s"
   ]
  },
  {
   "cell_type": "markdown",
   "metadata": {},
   "source": [
    "Arithmetic operations can be applied to the whole `pd.Series`."
   ]
  },
  {
   "cell_type": "code",
   "execution_count": 38,
   "metadata": {},
   "outputs": [
    {
     "data": {
      "text/plain": [
       "Neckarwestheim    35.623026\n",
       "Isar 2            36.945906\n",
       "Emsland           35.916570\n",
       "dtype: float64"
      ]
     },
     "execution_count": 38,
     "metadata": {},
     "output_type": "execute_result"
    }
   ],
   "source": [
    "s**0.5"
   ]
  },
  {
   "cell_type": "markdown",
   "metadata": {},
   "source": [
    "We can access the underlying index object if we need to:"
   ]
  },
  {
   "cell_type": "code",
   "execution_count": 39,
   "metadata": {},
   "outputs": [
    {
     "data": {
      "text/plain": [
       "Index(['Neckarwestheim', 'Isar 2', 'Emsland'], dtype='object')"
      ]
     },
     "execution_count": 39,
     "metadata": {},
     "output_type": "execute_result"
    }
   ],
   "source": [
    "s.index"
   ]
  },
  {
   "cell_type": "markdown",
   "metadata": {},
   "source": [
    "We can get values back out using the index via the `.loc` attribute"
   ]
  },
  {
   "cell_type": "code",
   "execution_count": 40,
   "metadata": {},
   "outputs": [
    {
     "data": {
      "text/plain": [
       "1365"
      ]
     },
     "execution_count": 40,
     "metadata": {},
     "output_type": "execute_result"
    }
   ],
   "source": [
    "s.loc[\"Isar 2\"]"
   ]
  },
  {
   "cell_type": "markdown",
   "metadata": {},
   "source": [
    "Or by raw position using `.iloc`"
   ]
  },
  {
   "cell_type": "code",
   "execution_count": 41,
   "metadata": {},
   "outputs": [
    {
     "data": {
      "text/plain": [
       "1290"
      ]
     },
     "execution_count": 41,
     "metadata": {},
     "output_type": "execute_result"
    }
   ],
   "source": [
    "s.iloc[2]"
   ]
  },
  {
   "cell_type": "markdown",
   "metadata": {},
   "source": [
    "We can pass a list or array to loc to get multiple rows back:"
   ]
  },
  {
   "cell_type": "code",
   "execution_count": 42,
   "metadata": {},
   "outputs": [
    {
     "data": {
      "text/plain": [
       "Neckarwestheim    1269\n",
       "Emsland           1290\n",
       "dtype: int64"
      ]
     },
     "execution_count": 42,
     "metadata": {},
     "output_type": "execute_result"
    }
   ],
   "source": [
    "s.loc[[\"Neckarwestheim\", \"Emsland\"]]"
   ]
  },
  {
   "cell_type": "markdown",
   "metadata": {},
   "source": [
    "## DataFrame\n",
    "\n",
    "Series are limited to a single **column**. A more useful Pandas data structure is the **DataFrame**. A DataFrame is basically a bunch of series that share the same index."
   ]
  },
  {
   "cell_type": "code",
   "execution_count": 43,
   "metadata": {},
   "outputs": [
    {
     "data": {
      "text/html": [
       "<div>\n",
       "<style scoped>\n",
       "    .dataframe tbody tr th:only-of-type {\n",
       "        vertical-align: middle;\n",
       "    }\n",
       "\n",
       "    .dataframe tbody tr th {\n",
       "        vertical-align: top;\n",
       "    }\n",
       "\n",
       "    .dataframe thead th {\n",
       "        text-align: right;\n",
       "    }\n",
       "</style>\n",
       "<table border=\"1\" class=\"dataframe\">\n",
       "  <thead>\n",
       "    <tr style=\"text-align: right;\">\n",
       "      <th></th>\n",
       "      <th>capacity</th>\n",
       "      <th>type</th>\n",
       "      <th>start_year</th>\n",
       "      <th>end_year</th>\n",
       "    </tr>\n",
       "  </thead>\n",
       "  <tbody>\n",
       "    <tr>\n",
       "      <th>Neckarwestheim</th>\n",
       "      <td>1269</td>\n",
       "      <td>PWR</td>\n",
       "      <td>1989</td>\n",
       "      <td>NaN</td>\n",
       "    </tr>\n",
       "    <tr>\n",
       "      <th>Isar 2</th>\n",
       "      <td>1365</td>\n",
       "      <td>PWR</td>\n",
       "      <td>1988</td>\n",
       "      <td>NaN</td>\n",
       "    </tr>\n",
       "    <tr>\n",
       "      <th>Emsland</th>\n",
       "      <td>1290</td>\n",
       "      <td>PWR</td>\n",
       "      <td>1988</td>\n",
       "      <td>NaN</td>\n",
       "    </tr>\n",
       "  </tbody>\n",
       "</table>\n",
       "</div>"
      ],
      "text/plain": [
       "                capacity type  start_year  end_year\n",
       "Neckarwestheim      1269  PWR        1989       NaN\n",
       "Isar 2              1365  PWR        1988       NaN\n",
       "Emsland             1290  PWR        1988       NaN"
      ]
     },
     "execution_count": 43,
     "metadata": {},
     "output_type": "execute_result"
    }
   ],
   "source": [
    "data = {\n",
    "    \"capacity\": [1269, 1365, 1290],  # MW\n",
    "    \"type\": [\"PWR\", \"PWR\", \"PWR\"],\n",
    "    \"start_year\": [1989, 1988, 1988],\n",
    "    \"end_year\": [np.nan, np.nan, np.nan],\n",
    "}\n",
    "df = pd.DataFrame(data, index=[\"Neckarwestheim\", \"Isar 2\", \"Emsland\"])\n",
    "df"
   ]
  },
  {
   "cell_type": "markdown",
   "metadata": {},
   "source": [
    "A wide range of statistical functions are available on both Series and DataFrames."
   ]
  },
  {
   "cell_type": "code",
   "execution_count": 44,
   "metadata": {},
   "outputs": [
    {
     "data": {
      "text/plain": [
       "capacity      1269\n",
       "type           PWR\n",
       "start_year    1988\n",
       "end_year       NaN\n",
       "dtype: object"
      ]
     },
     "execution_count": 44,
     "metadata": {},
     "output_type": "execute_result"
    }
   ],
   "source": [
    "df.min()"
   ]
  },
  {
   "cell_type": "code",
   "execution_count": 45,
   "metadata": {},
   "outputs": [
    {
     "data": {
      "text/plain": [
       "capacity      1308.000000\n",
       "start_year    1988.333333\n",
       "end_year              NaN\n",
       "dtype: float64"
      ]
     },
     "execution_count": 45,
     "metadata": {},
     "output_type": "execute_result"
    }
   ],
   "source": [
    "df.mean(numeric_only=True)"
   ]
  },
  {
   "cell_type": "markdown",
   "metadata": {},
   "source": [
    "We can get a single column as a Series using python's getitem syntax on the DataFrame object."
   ]
  },
  {
   "cell_type": "code",
   "execution_count": 46,
   "metadata": {},
   "outputs": [
    {
     "data": {
      "text/plain": [
       "Neckarwestheim    1269\n",
       "Isar 2            1365\n",
       "Emsland           1290\n",
       "Name: capacity, dtype: int64"
      ]
     },
     "execution_count": 46,
     "metadata": {},
     "output_type": "execute_result"
    }
   ],
   "source": [
    "df[\"capacity\"]"
   ]
  },
  {
   "cell_type": "markdown",
   "metadata": {},
   "source": [
    "Indexing works very similar to series"
   ]
  },
  {
   "cell_type": "code",
   "execution_count": 47,
   "metadata": {},
   "outputs": [
    {
     "data": {
      "text/plain": [
       "capacity      1290\n",
       "type           PWR\n",
       "start_year    1988\n",
       "end_year       NaN\n",
       "Name: Emsland, dtype: object"
      ]
     },
     "execution_count": 47,
     "metadata": {},
     "output_type": "execute_result"
    }
   ],
   "source": [
    "df.loc[\"Emsland\"]"
   ]
  },
  {
   "cell_type": "markdown",
   "metadata": {},
   "source": [
    "But we can also specify the column(s) and row(s) we want to access"
   ]
  },
  {
   "cell_type": "code",
   "execution_count": 48,
   "metadata": {},
   "outputs": [
    {
     "data": {
      "text/plain": [
       "1988"
      ]
     },
     "execution_count": 48,
     "metadata": {},
     "output_type": "execute_result"
    }
   ],
   "source": [
    "df.at[\"Emsland\", \"start_year\"]"
   ]
  },
  {
   "cell_type": "markdown",
   "metadata": {},
   "source": [
    "We can also add new columns to the DataFrame:"
   ]
  },
  {
   "cell_type": "code",
   "execution_count": 49,
   "metadata": {},
   "outputs": [
    {
     "data": {
      "text/html": [
       "<div>\n",
       "<style scoped>\n",
       "    .dataframe tbody tr th:only-of-type {\n",
       "        vertical-align: middle;\n",
       "    }\n",
       "\n",
       "    .dataframe tbody tr th {\n",
       "        vertical-align: top;\n",
       "    }\n",
       "\n",
       "    .dataframe thead th {\n",
       "        text-align: right;\n",
       "    }\n",
       "</style>\n",
       "<table border=\"1\" class=\"dataframe\">\n",
       "  <thead>\n",
       "    <tr style=\"text-align: right;\">\n",
       "      <th></th>\n",
       "      <th>capacity</th>\n",
       "      <th>type</th>\n",
       "      <th>start_year</th>\n",
       "      <th>end_year</th>\n",
       "      <th>reduced_capacity</th>\n",
       "    </tr>\n",
       "  </thead>\n",
       "  <tbody>\n",
       "    <tr>\n",
       "      <th>Neckarwestheim</th>\n",
       "      <td>1269</td>\n",
       "      <td>PWR</td>\n",
       "      <td>1989</td>\n",
       "      <td>NaN</td>\n",
       "      <td>1015.2</td>\n",
       "    </tr>\n",
       "    <tr>\n",
       "      <th>Isar 2</th>\n",
       "      <td>1365</td>\n",
       "      <td>PWR</td>\n",
       "      <td>1988</td>\n",
       "      <td>NaN</td>\n",
       "      <td>1092.0</td>\n",
       "    </tr>\n",
       "    <tr>\n",
       "      <th>Emsland</th>\n",
       "      <td>1290</td>\n",
       "      <td>PWR</td>\n",
       "      <td>1988</td>\n",
       "      <td>NaN</td>\n",
       "      <td>1032.0</td>\n",
       "    </tr>\n",
       "  </tbody>\n",
       "</table>\n",
       "</div>"
      ],
      "text/plain": [
       "                capacity type  start_year  end_year  reduced_capacity\n",
       "Neckarwestheim      1269  PWR        1989       NaN            1015.2\n",
       "Isar 2              1365  PWR        1988       NaN            1092.0\n",
       "Emsland             1290  PWR        1988       NaN            1032.0"
      ]
     },
     "execution_count": 49,
     "metadata": {},
     "output_type": "execute_result"
    }
   ],
   "source": [
    "df[\"reduced_capacity\"] = df.capacity * 0.8\n",
    "df"
   ]
  },
  {
   "cell_type": "markdown",
   "metadata": {},
   "source": [
    "We can also remove columns or rows from a DataFrame:\n",
    "\n",
    ":::{note}\n",
    "This operation needs to be an **inplace** operation to be permanent.\n",
    ":::"
   ]
  },
  {
   "cell_type": "code",
   "execution_count": 50,
   "metadata": {},
   "outputs": [],
   "source": [
    "df.drop(\"reduced_capacity\", axis=\"columns\", inplace=True)"
   ]
  },
  {
   "cell_type": "markdown",
   "metadata": {},
   "source": [
    "We can also drop columns with only NaN values"
   ]
  },
  {
   "cell_type": "code",
   "execution_count": 51,
   "metadata": {},
   "outputs": [
    {
     "data": {
      "text/html": [
       "<div>\n",
       "<style scoped>\n",
       "    .dataframe tbody tr th:only-of-type {\n",
       "        vertical-align: middle;\n",
       "    }\n",
       "\n",
       "    .dataframe tbody tr th {\n",
       "        vertical-align: top;\n",
       "    }\n",
       "\n",
       "    .dataframe thead th {\n",
       "        text-align: right;\n",
       "    }\n",
       "</style>\n",
       "<table border=\"1\" class=\"dataframe\">\n",
       "  <thead>\n",
       "    <tr style=\"text-align: right;\">\n",
       "      <th></th>\n",
       "      <th>capacity</th>\n",
       "      <th>type</th>\n",
       "      <th>start_year</th>\n",
       "    </tr>\n",
       "  </thead>\n",
       "  <tbody>\n",
       "    <tr>\n",
       "      <th>Neckarwestheim</th>\n",
       "      <td>1269</td>\n",
       "      <td>PWR</td>\n",
       "      <td>1989</td>\n",
       "    </tr>\n",
       "    <tr>\n",
       "      <th>Isar 2</th>\n",
       "      <td>1365</td>\n",
       "      <td>PWR</td>\n",
       "      <td>1988</td>\n",
       "    </tr>\n",
       "    <tr>\n",
       "      <th>Emsland</th>\n",
       "      <td>1290</td>\n",
       "      <td>PWR</td>\n",
       "      <td>1988</td>\n",
       "    </tr>\n",
       "  </tbody>\n",
       "</table>\n",
       "</div>"
      ],
      "text/plain": [
       "                capacity type  start_year\n",
       "Neckarwestheim      1269  PWR        1989\n",
       "Isar 2              1365  PWR        1988\n",
       "Emsland             1290  PWR        1988"
      ]
     },
     "execution_count": 51,
     "metadata": {},
     "output_type": "execute_result"
    }
   ],
   "source": [
    "df.dropna(axis=1)"
   ]
  },
  {
   "cell_type": "markdown",
   "metadata": {},
   "source": [
    "Or fill it up with default \"fallback\" data:"
   ]
  },
  {
   "cell_type": "code",
   "execution_count": 52,
   "metadata": {},
   "outputs": [
    {
     "data": {
      "text/html": [
       "<div>\n",
       "<style scoped>\n",
       "    .dataframe tbody tr th:only-of-type {\n",
       "        vertical-align: middle;\n",
       "    }\n",
       "\n",
       "    .dataframe tbody tr th {\n",
       "        vertical-align: top;\n",
       "    }\n",
       "\n",
       "    .dataframe thead th {\n",
       "        text-align: right;\n",
       "    }\n",
       "</style>\n",
       "<table border=\"1\" class=\"dataframe\">\n",
       "  <thead>\n",
       "    <tr style=\"text-align: right;\">\n",
       "      <th></th>\n",
       "      <th>capacity</th>\n",
       "      <th>type</th>\n",
       "      <th>start_year</th>\n",
       "      <th>end_year</th>\n",
       "    </tr>\n",
       "  </thead>\n",
       "  <tbody>\n",
       "    <tr>\n",
       "      <th>Neckarwestheim</th>\n",
       "      <td>1269</td>\n",
       "      <td>PWR</td>\n",
       "      <td>1989</td>\n",
       "      <td>2023.0</td>\n",
       "    </tr>\n",
       "    <tr>\n",
       "      <th>Isar 2</th>\n",
       "      <td>1365</td>\n",
       "      <td>PWR</td>\n",
       "      <td>1988</td>\n",
       "      <td>2023.0</td>\n",
       "    </tr>\n",
       "    <tr>\n",
       "      <th>Emsland</th>\n",
       "      <td>1290</td>\n",
       "      <td>PWR</td>\n",
       "      <td>1988</td>\n",
       "      <td>2023.0</td>\n",
       "    </tr>\n",
       "  </tbody>\n",
       "</table>\n",
       "</div>"
      ],
      "text/plain": [
       "                capacity type  start_year  end_year\n",
       "Neckarwestheim      1269  PWR        1989    2023.0\n",
       "Isar 2              1365  PWR        1988    2023.0\n",
       "Emsland             1290  PWR        1988    2023.0"
      ]
     },
     "execution_count": 52,
     "metadata": {},
     "output_type": "execute_result"
    }
   ],
   "source": [
    "df.fillna(2023)"
   ]
  },
  {
   "cell_type": "markdown",
   "metadata": {},
   "source": [
    "## Sorting Data"
   ]
  },
  {
   "cell_type": "markdown",
   "metadata": {},
   "source": [
    "We can also sort the entries in dataframes, e.g. alphabetically by index or numerically by column values"
   ]
  },
  {
   "cell_type": "code",
   "execution_count": 53,
   "metadata": {},
   "outputs": [
    {
     "data": {
      "text/html": [
       "<div>\n",
       "<style scoped>\n",
       "    .dataframe tbody tr th:only-of-type {\n",
       "        vertical-align: middle;\n",
       "    }\n",
       "\n",
       "    .dataframe tbody tr th {\n",
       "        vertical-align: top;\n",
       "    }\n",
       "\n",
       "    .dataframe thead th {\n",
       "        text-align: right;\n",
       "    }\n",
       "</style>\n",
       "<table border=\"1\" class=\"dataframe\">\n",
       "  <thead>\n",
       "    <tr style=\"text-align: right;\">\n",
       "      <th></th>\n",
       "      <th>capacity</th>\n",
       "      <th>type</th>\n",
       "      <th>start_year</th>\n",
       "      <th>end_year</th>\n",
       "    </tr>\n",
       "  </thead>\n",
       "  <tbody>\n",
       "    <tr>\n",
       "      <th>Emsland</th>\n",
       "      <td>1290</td>\n",
       "      <td>PWR</td>\n",
       "      <td>1988</td>\n",
       "      <td>NaN</td>\n",
       "    </tr>\n",
       "    <tr>\n",
       "      <th>Isar 2</th>\n",
       "      <td>1365</td>\n",
       "      <td>PWR</td>\n",
       "      <td>1988</td>\n",
       "      <td>NaN</td>\n",
       "    </tr>\n",
       "    <tr>\n",
       "      <th>Neckarwestheim</th>\n",
       "      <td>1269</td>\n",
       "      <td>PWR</td>\n",
       "      <td>1989</td>\n",
       "      <td>NaN</td>\n",
       "    </tr>\n",
       "  </tbody>\n",
       "</table>\n",
       "</div>"
      ],
      "text/plain": [
       "                capacity type  start_year  end_year\n",
       "Emsland             1290  PWR        1988       NaN\n",
       "Isar 2              1365  PWR        1988       NaN\n",
       "Neckarwestheim      1269  PWR        1989       NaN"
      ]
     },
     "execution_count": 53,
     "metadata": {},
     "output_type": "execute_result"
    }
   ],
   "source": [
    "df.sort_index()"
   ]
  },
  {
   "cell_type": "code",
   "execution_count": 54,
   "metadata": {},
   "outputs": [
    {
     "data": {
      "text/html": [
       "<div>\n",
       "<style scoped>\n",
       "    .dataframe tbody tr th:only-of-type {\n",
       "        vertical-align: middle;\n",
       "    }\n",
       "\n",
       "    .dataframe tbody tr th {\n",
       "        vertical-align: top;\n",
       "    }\n",
       "\n",
       "    .dataframe thead th {\n",
       "        text-align: right;\n",
       "    }\n",
       "</style>\n",
       "<table border=\"1\" class=\"dataframe\">\n",
       "  <thead>\n",
       "    <tr style=\"text-align: right;\">\n",
       "      <th></th>\n",
       "      <th>capacity</th>\n",
       "      <th>type</th>\n",
       "      <th>start_year</th>\n",
       "      <th>end_year</th>\n",
       "    </tr>\n",
       "  </thead>\n",
       "  <tbody>\n",
       "    <tr>\n",
       "      <th>Isar 2</th>\n",
       "      <td>1365</td>\n",
       "      <td>PWR</td>\n",
       "      <td>1988</td>\n",
       "      <td>NaN</td>\n",
       "    </tr>\n",
       "    <tr>\n",
       "      <th>Emsland</th>\n",
       "      <td>1290</td>\n",
       "      <td>PWR</td>\n",
       "      <td>1988</td>\n",
       "      <td>NaN</td>\n",
       "    </tr>\n",
       "    <tr>\n",
       "      <th>Neckarwestheim</th>\n",
       "      <td>1269</td>\n",
       "      <td>PWR</td>\n",
       "      <td>1989</td>\n",
       "      <td>NaN</td>\n",
       "    </tr>\n",
       "  </tbody>\n",
       "</table>\n",
       "</div>"
      ],
      "text/plain": [
       "                capacity type  start_year  end_year\n",
       "Isar 2              1365  PWR        1988       NaN\n",
       "Emsland             1290  PWR        1988       NaN\n",
       "Neckarwestheim      1269  PWR        1989       NaN"
      ]
     },
     "execution_count": 54,
     "metadata": {},
     "output_type": "execute_result"
    }
   ],
   "source": [
    "df.sort_values(by=\"capacity\", ascending=False)"
   ]
  },
  {
   "cell_type": "markdown",
   "metadata": {
    "tags": []
   },
   "source": [
    "## Filtering Data"
   ]
  },
  {
   "cell_type": "markdown",
   "metadata": {},
   "source": [
    "We can also filter a DataFrame using a boolean series obtained from a condition. This is very useful to build subsets of the DataFrame."
   ]
  },
  {
   "cell_type": "code",
   "execution_count": 55,
   "metadata": {},
   "outputs": [
    {
     "data": {
      "text/plain": [
       "Neckarwestheim    False\n",
       "Isar 2             True\n",
       "Emsland           False\n",
       "Name: capacity, dtype: bool"
      ]
     },
     "execution_count": 55,
     "metadata": {},
     "output_type": "execute_result"
    }
   ],
   "source": [
    "df.capacity > 1300"
   ]
  },
  {
   "cell_type": "code",
   "execution_count": 56,
   "metadata": {},
   "outputs": [
    {
     "data": {
      "text/html": [
       "<div>\n",
       "<style scoped>\n",
       "    .dataframe tbody tr th:only-of-type {\n",
       "        vertical-align: middle;\n",
       "    }\n",
       "\n",
       "    .dataframe tbody tr th {\n",
       "        vertical-align: top;\n",
       "    }\n",
       "\n",
       "    .dataframe thead th {\n",
       "        text-align: right;\n",
       "    }\n",
       "</style>\n",
       "<table border=\"1\" class=\"dataframe\">\n",
       "  <thead>\n",
       "    <tr style=\"text-align: right;\">\n",
       "      <th></th>\n",
       "      <th>capacity</th>\n",
       "      <th>type</th>\n",
       "      <th>start_year</th>\n",
       "      <th>end_year</th>\n",
       "    </tr>\n",
       "  </thead>\n",
       "  <tbody>\n",
       "    <tr>\n",
       "      <th>Isar 2</th>\n",
       "      <td>1365</td>\n",
       "      <td>PWR</td>\n",
       "      <td>1988</td>\n",
       "      <td>NaN</td>\n",
       "    </tr>\n",
       "  </tbody>\n",
       "</table>\n",
       "</div>"
      ],
      "text/plain": [
       "        capacity type  start_year  end_year\n",
       "Isar 2      1365  PWR        1988       NaN"
      ]
     },
     "execution_count": 56,
     "metadata": {},
     "output_type": "execute_result"
    }
   ],
   "source": [
    "df[df.capacity > 1300]"
   ]
  },
  {
   "cell_type": "markdown",
   "metadata": {},
   "source": [
    "We can also combine multiple conditions, but we need to wrap the conditions with brackets!"
   ]
  },
  {
   "cell_type": "code",
   "execution_count": 57,
   "metadata": {},
   "outputs": [
    {
     "data": {
      "text/html": [
       "<div>\n",
       "<style scoped>\n",
       "    .dataframe tbody tr th:only-of-type {\n",
       "        vertical-align: middle;\n",
       "    }\n",
       "\n",
       "    .dataframe tbody tr th {\n",
       "        vertical-align: top;\n",
       "    }\n",
       "\n",
       "    .dataframe thead th {\n",
       "        text-align: right;\n",
       "    }\n",
       "</style>\n",
       "<table border=\"1\" class=\"dataframe\">\n",
       "  <thead>\n",
       "    <tr style=\"text-align: right;\">\n",
       "      <th></th>\n",
       "      <th>capacity</th>\n",
       "      <th>type</th>\n",
       "      <th>start_year</th>\n",
       "      <th>end_year</th>\n",
       "    </tr>\n",
       "  </thead>\n",
       "  <tbody>\n",
       "    <tr>\n",
       "      <th>Isar 2</th>\n",
       "      <td>1365</td>\n",
       "      <td>PWR</td>\n",
       "      <td>1988</td>\n",
       "      <td>NaN</td>\n",
       "    </tr>\n",
       "  </tbody>\n",
       "</table>\n",
       "</div>"
      ],
      "text/plain": [
       "        capacity type  start_year  end_year\n",
       "Isar 2      1365  PWR        1988       NaN"
      ]
     },
     "execution_count": 57,
     "metadata": {},
     "output_type": "execute_result"
    }
   ],
   "source": [
    "df[(df.capacity > 1300) & (df.start_year >= 1988)]"
   ]
  },
  {
   "cell_type": "markdown",
   "metadata": {},
   "source": [
    "Or we make [SQL-like](https://en.wikipedia.org/wiki/SQL) queries:"
   ]
  },
  {
   "cell_type": "code",
   "execution_count": 58,
   "metadata": {},
   "outputs": [
    {
     "data": {
      "text/html": [
       "<div>\n",
       "<style scoped>\n",
       "    .dataframe tbody tr th:only-of-type {\n",
       "        vertical-align: middle;\n",
       "    }\n",
       "\n",
       "    .dataframe tbody tr th {\n",
       "        vertical-align: top;\n",
       "    }\n",
       "\n",
       "    .dataframe thead th {\n",
       "        text-align: right;\n",
       "    }\n",
       "</style>\n",
       "<table border=\"1\" class=\"dataframe\">\n",
       "  <thead>\n",
       "    <tr style=\"text-align: right;\">\n",
       "      <th></th>\n",
       "      <th>capacity</th>\n",
       "      <th>type</th>\n",
       "      <th>start_year</th>\n",
       "      <th>end_year</th>\n",
       "    </tr>\n",
       "  </thead>\n",
       "  <tbody>\n",
       "    <tr>\n",
       "      <th>Isar 2</th>\n",
       "      <td>1365</td>\n",
       "      <td>PWR</td>\n",
       "      <td>1988</td>\n",
       "      <td>NaN</td>\n",
       "    </tr>\n",
       "    <tr>\n",
       "      <th>Emsland</th>\n",
       "      <td>1290</td>\n",
       "      <td>PWR</td>\n",
       "      <td>1988</td>\n",
       "      <td>NaN</td>\n",
       "    </tr>\n",
       "  </tbody>\n",
       "</table>\n",
       "</div>"
      ],
      "text/plain": [
       "         capacity type  start_year  end_year\n",
       "Isar 2       1365  PWR        1988       NaN\n",
       "Emsland      1290  PWR        1988       NaN"
      ]
     },
     "execution_count": 58,
     "metadata": {},
     "output_type": "execute_result"
    }
   ],
   "source": [
    "df.query(\"start_year == 1988\")"
   ]
  },
  {
   "cell_type": "code",
   "execution_count": 59,
   "metadata": {},
   "outputs": [
    {
     "data": {
      "text/html": [
       "<div>\n",
       "<style scoped>\n",
       "    .dataframe tbody tr th:only-of-type {\n",
       "        vertical-align: middle;\n",
       "    }\n",
       "\n",
       "    .dataframe tbody tr th {\n",
       "        vertical-align: top;\n",
       "    }\n",
       "\n",
       "    .dataframe thead th {\n",
       "        text-align: right;\n",
       "    }\n",
       "</style>\n",
       "<table border=\"1\" class=\"dataframe\">\n",
       "  <thead>\n",
       "    <tr style=\"text-align: right;\">\n",
       "      <th></th>\n",
       "      <th>capacity</th>\n",
       "      <th>type</th>\n",
       "      <th>start_year</th>\n",
       "      <th>end_year</th>\n",
       "    </tr>\n",
       "  </thead>\n",
       "  <tbody>\n",
       "    <tr>\n",
       "      <th>Isar 2</th>\n",
       "      <td>1365</td>\n",
       "      <td>PWR</td>\n",
       "      <td>1988</td>\n",
       "      <td>NaN</td>\n",
       "    </tr>\n",
       "  </tbody>\n",
       "</table>\n",
       "</div>"
      ],
      "text/plain": [
       "        capacity type  start_year  end_year\n",
       "Isar 2      1365  PWR        1988       NaN"
      ]
     },
     "execution_count": 59,
     "metadata": {},
     "output_type": "execute_result"
    }
   ],
   "source": [
    "threshold = 1300\n",
    "df.query(\"start_year == 1988 and capacity > @threshold\")"
   ]
  },
  {
   "cell_type": "markdown",
   "metadata": {},
   "source": [
    "## Modifying Values\n",
    "\n",
    "In many cases, we want to modify values in a dataframe based on some rule. To modify values, we need to use `.loc` or `.iloc`"
   ]
  },
  {
   "cell_type": "code",
   "execution_count": 60,
   "metadata": {},
   "outputs": [
    {
     "data": {
      "text/html": [
       "<div>\n",
       "<style scoped>\n",
       "    .dataframe tbody tr th:only-of-type {\n",
       "        vertical-align: middle;\n",
       "    }\n",
       "\n",
       "    .dataframe tbody tr th {\n",
       "        vertical-align: top;\n",
       "    }\n",
       "\n",
       "    .dataframe thead th {\n",
       "        text-align: right;\n",
       "    }\n",
       "</style>\n",
       "<table border=\"1\" class=\"dataframe\">\n",
       "  <thead>\n",
       "    <tr style=\"text-align: right;\">\n",
       "      <th></th>\n",
       "      <th>capacity</th>\n",
       "      <th>type</th>\n",
       "      <th>start_year</th>\n",
       "      <th>end_year</th>\n",
       "    </tr>\n",
       "  </thead>\n",
       "  <tbody>\n",
       "    <tr>\n",
       "      <th>Neckarwestheim</th>\n",
       "      <td>1269</td>\n",
       "      <td>PWR</td>\n",
       "      <td>1989</td>\n",
       "      <td>NaN</td>\n",
       "    </tr>\n",
       "    <tr>\n",
       "      <th>Isar 2</th>\n",
       "      <td>1366</td>\n",
       "      <td>PWR</td>\n",
       "      <td>1988</td>\n",
       "      <td>NaN</td>\n",
       "    </tr>\n",
       "    <tr>\n",
       "      <th>Emsland</th>\n",
       "      <td>1290</td>\n",
       "      <td>PWR</td>\n",
       "      <td>1988</td>\n",
       "      <td>NaN</td>\n",
       "    </tr>\n",
       "  </tbody>\n",
       "</table>\n",
       "</div>"
      ],
      "text/plain": [
       "                capacity type  start_year  end_year\n",
       "Neckarwestheim      1269  PWR        1989       NaN\n",
       "Isar 2              1366  PWR        1988       NaN\n",
       "Emsland             1290  PWR        1988       NaN"
      ]
     },
     "execution_count": 60,
     "metadata": {},
     "output_type": "execute_result"
    }
   ],
   "source": [
    "df.loc[\"Isar 2\", \"capacity\"] = 1366\n",
    "df"
   ]
  },
  {
   "cell_type": "markdown",
   "metadata": {},
   "source": [
    "Sometimes it can be useful to rename columns:"
   ]
  },
  {
   "cell_type": "code",
   "execution_count": 89,
   "metadata": {},
   "outputs": [
    {
     "data": {
      "text/html": [
       "<div>\n",
       "<style scoped>\n",
       "    .dataframe tbody tr th:only-of-type {\n",
       "        vertical-align: middle;\n",
       "    }\n",
       "\n",
       "    .dataframe tbody tr th {\n",
       "        vertical-align: top;\n",
       "    }\n",
       "\n",
       "    .dataframe thead th {\n",
       "        text-align: right;\n",
       "    }\n",
       "</style>\n",
       "<table border=\"1\" class=\"dataframe\">\n",
       "  <thead>\n",
       "    <tr style=\"text-align: right;\">\n",
       "      <th></th>\n",
       "      <th>Name</th>\n",
       "      <th>Fueltype</th>\n",
       "      <th>Technology</th>\n",
       "      <th>Set</th>\n",
       "      <th>Country</th>\n",
       "      <th>Capacity</th>\n",
       "      <th>Efficiency</th>\n",
       "      <th>DateIn</th>\n",
       "      <th>DateRetrofit</th>\n",
       "      <th>DateOut</th>\n",
       "      <th>lat</th>\n",
       "      <th>lon</th>\n",
       "      <th>Duration</th>\n",
       "      <th>Volume_Mm3</th>\n",
       "      <th>DamHeight_m</th>\n",
       "      <th>StorageCapacity_MWh</th>\n",
       "      <th>EIC</th>\n",
       "      <th>projectID</th>\n",
       "    </tr>\n",
       "    <tr>\n",
       "      <th>id</th>\n",
       "      <th></th>\n",
       "      <th></th>\n",
       "      <th></th>\n",
       "      <th></th>\n",
       "      <th></th>\n",
       "      <th></th>\n",
       "      <th></th>\n",
       "      <th></th>\n",
       "      <th></th>\n",
       "      <th></th>\n",
       "      <th></th>\n",
       "      <th></th>\n",
       "      <th></th>\n",
       "      <th></th>\n",
       "      <th></th>\n",
       "      <th></th>\n",
       "      <th></th>\n",
       "      <th></th>\n",
       "    </tr>\n",
       "  </thead>\n",
       "  <tbody>\n",
       "    <tr>\n",
       "      <th>0</th>\n",
       "      <td>Borssele</td>\n",
       "      <td>Hard Coal</td>\n",
       "      <td>Steam Turbine</td>\n",
       "      <td>PP</td>\n",
       "      <td>Netherlands</td>\n",
       "      <td>485.0</td>\n",
       "      <td>NaN</td>\n",
       "      <td>1973.0</td>\n",
       "      <td>NaN</td>\n",
       "      <td>2034.0</td>\n",
       "      <td>51.4332</td>\n",
       "      <td>3.71600</td>\n",
       "      <td>NaN</td>\n",
       "      <td>0.0</td>\n",
       "      <td>0.0</td>\n",
       "      <td>0.0</td>\n",
       "      <td>{'49W000000000054X'}</td>\n",
       "      <td>{'BEYONDCOAL': {'BEYOND-NL-2'}, 'ENTSOE': {'49...</td>\n",
       "    </tr>\n",
       "    <tr>\n",
       "      <th>1</th>\n",
       "      <td>Flamanville</td>\n",
       "      <td>Nuclear</td>\n",
       "      <td>Steam Turbine</td>\n",
       "      <td>PP</td>\n",
       "      <td>France</td>\n",
       "      <td>2660.0</td>\n",
       "      <td>NaN</td>\n",
       "      <td>1985.0</td>\n",
       "      <td>NaN</td>\n",
       "      <td>2051.0</td>\n",
       "      <td>49.5366</td>\n",
       "      <td>-1.88230</td>\n",
       "      <td>NaN</td>\n",
       "      <td>0.0</td>\n",
       "      <td>0.0</td>\n",
       "      <td>0.0</td>\n",
       "      <td>{'17W100P100P0210Y', '17W100P100P0209J'}</td>\n",
       "      <td>{'ENTSOE': {'17W100P100P0210Y', '17W100P100P02...</td>\n",
       "    </tr>\n",
       "    <tr>\n",
       "      <th>2</th>\n",
       "      <td>Emsland</td>\n",
       "      <td>Nuclear</td>\n",
       "      <td>Steam Turbine</td>\n",
       "      <td>PP</td>\n",
       "      <td>Germany</td>\n",
       "      <td>1336.0</td>\n",
       "      <td>0.33</td>\n",
       "      <td>1988.0</td>\n",
       "      <td>1988.0</td>\n",
       "      <td>2023.0</td>\n",
       "      <td>52.4716</td>\n",
       "      <td>7.32040</td>\n",
       "      <td>NaN</td>\n",
       "      <td>0.0</td>\n",
       "      <td>0.0</td>\n",
       "      <td>0.0</td>\n",
       "      <td>{'11WD7KKE-1K--KW5'}</td>\n",
       "      <td>{'ENTSOE': {'11WD7KKE-1K--KW5'}, 'GEM': {'G100...</td>\n",
       "    </tr>\n",
       "    <tr>\n",
       "      <th>3</th>\n",
       "      <td>Kernkraftwerk Gosgen</td>\n",
       "      <td>Nuclear</td>\n",
       "      <td>Steam Turbine</td>\n",
       "      <td>PP</td>\n",
       "      <td>Switzerland</td>\n",
       "      <td>1020.0</td>\n",
       "      <td>NaN</td>\n",
       "      <td>1979.0</td>\n",
       "      <td>1979.0</td>\n",
       "      <td>2051.0</td>\n",
       "      <td>47.3656</td>\n",
       "      <td>7.96801</td>\n",
       "      <td>NaN</td>\n",
       "      <td>0.0</td>\n",
       "      <td>0.0</td>\n",
       "      <td>0.0</td>\n",
       "      <td>{'12W-0000000056-1'}</td>\n",
       "      <td>{'ENTSOE': {'12W-0000000056-1'}, 'GEM': {'G100...</td>\n",
       "    </tr>\n",
       "    <tr>\n",
       "      <th>4</th>\n",
       "      <td>Oskarshamn</td>\n",
       "      <td>Nuclear</td>\n",
       "      <td>Steam Turbine</td>\n",
       "      <td>PP</td>\n",
       "      <td>Sweden</td>\n",
       "      <td>1400.0</td>\n",
       "      <td>NaN</td>\n",
       "      <td>1972.0</td>\n",
       "      <td>2006.0</td>\n",
       "      <td>2051.0</td>\n",
       "      <td>57.4166</td>\n",
       "      <td>16.67301</td>\n",
       "      <td>NaN</td>\n",
       "      <td>0.0</td>\n",
       "      <td>0.0</td>\n",
       "      <td>0.0</td>\n",
       "      <td>{'46WPU0000000061P'}</td>\n",
       "      <td>{'ENTSOE': {'46WPU0000000061P'}, 'GEM': {'G100...</td>\n",
       "    </tr>\n",
       "    <tr>\n",
       "      <th>...</th>\n",
       "      <td>...</td>\n",
       "      <td>...</td>\n",
       "      <td>...</td>\n",
       "      <td>...</td>\n",
       "      <td>...</td>\n",
       "      <td>...</td>\n",
       "      <td>...</td>\n",
       "      <td>...</td>\n",
       "      <td>...</td>\n",
       "      <td>...</td>\n",
       "      <td>...</td>\n",
       "      <td>...</td>\n",
       "      <td>...</td>\n",
       "      <td>...</td>\n",
       "      <td>...</td>\n",
       "      <td>...</td>\n",
       "      <td>...</td>\n",
       "      <td>...</td>\n",
       "    </tr>\n",
       "    <tr>\n",
       "      <th>23112</th>\n",
       "      <td>Zwolle Solar</td>\n",
       "      <td>Solar</td>\n",
       "      <td>PV</td>\n",
       "      <td>PP</td>\n",
       "      <td>Netherlands</td>\n",
       "      <td>5.2</td>\n",
       "      <td>NaN</td>\n",
       "      <td>2019.0</td>\n",
       "      <td>NaN</td>\n",
       "      <td>NaN</td>\n",
       "      <td>52.5066</td>\n",
       "      <td>6.13770</td>\n",
       "      <td>NaN</td>\n",
       "      <td>0.0</td>\n",
       "      <td>0.0</td>\n",
       "      <td>0.0</td>\n",
       "      <td>{nan}</td>\n",
       "      <td>{'GEM': {'G100001008668'}}</td>\n",
       "    </tr>\n",
       "    <tr>\n",
       "      <th>23113</th>\n",
       "      <td>Zwolle Solar</td>\n",
       "      <td>Solar</td>\n",
       "      <td>PV</td>\n",
       "      <td>PP</td>\n",
       "      <td>Netherlands</td>\n",
       "      <td>16.3</td>\n",
       "      <td>NaN</td>\n",
       "      <td>2021.0</td>\n",
       "      <td>NaN</td>\n",
       "      <td>NaN</td>\n",
       "      <td>52.4610</td>\n",
       "      <td>6.12300</td>\n",
       "      <td>NaN</td>\n",
       "      <td>0.0</td>\n",
       "      <td>0.0</td>\n",
       "      <td>0.0</td>\n",
       "      <td>{nan}</td>\n",
       "      <td>{'GEM': {'G100001008669'}}</td>\n",
       "    </tr>\n",
       "    <tr>\n",
       "      <th>23114</th>\n",
       "      <td>Zychlin Kutnowski Solar</td>\n",
       "      <td>Solar</td>\n",
       "      <td>PV</td>\n",
       "      <td>PP</td>\n",
       "      <td>Poland</td>\n",
       "      <td>2.3</td>\n",
       "      <td>NaN</td>\n",
       "      <td>NaN</td>\n",
       "      <td>NaN</td>\n",
       "      <td>NaN</td>\n",
       "      <td>52.2440</td>\n",
       "      <td>19.62610</td>\n",
       "      <td>NaN</td>\n",
       "      <td>0.0</td>\n",
       "      <td>0.0</td>\n",
       "      <td>0.0</td>\n",
       "      <td>{nan}</td>\n",
       "      <td>{'GEM': {'G100001007329'}}</td>\n",
       "    </tr>\n",
       "    <tr>\n",
       "      <th>23115</th>\n",
       "      <td>Zydowo Koszalinski Solar</td>\n",
       "      <td>Solar</td>\n",
       "      <td>PV</td>\n",
       "      <td>PP</td>\n",
       "      <td>Poland</td>\n",
       "      <td>1.0</td>\n",
       "      <td>NaN</td>\n",
       "      <td>NaN</td>\n",
       "      <td>NaN</td>\n",
       "      <td>NaN</td>\n",
       "      <td>54.0427</td>\n",
       "      <td>16.71800</td>\n",
       "      <td>NaN</td>\n",
       "      <td>0.0</td>\n",
       "      <td>0.0</td>\n",
       "      <td>0.0</td>\n",
       "      <td>{nan}</td>\n",
       "      <td>{'GEM': {'G100001007483'}}</td>\n",
       "    </tr>\n",
       "    <tr>\n",
       "      <th>23116</th>\n",
       "      <td>Zygourolivado Palio Mandri Wind Farm</td>\n",
       "      <td>Wind</td>\n",
       "      <td>Onshore</td>\n",
       "      <td>PP</td>\n",
       "      <td>Greece</td>\n",
       "      <td>43.2</td>\n",
       "      <td>NaN</td>\n",
       "      <td>2024.0</td>\n",
       "      <td>NaN</td>\n",
       "      <td>NaN</td>\n",
       "      <td>39.3140</td>\n",
       "      <td>21.62500</td>\n",
       "      <td>NaN</td>\n",
       "      <td>0.0</td>\n",
       "      <td>0.0</td>\n",
       "      <td>0.0</td>\n",
       "      <td>{nan}</td>\n",
       "      <td>{'GEM': {'G100000917902'}}</td>\n",
       "    </tr>\n",
       "  </tbody>\n",
       "</table>\n",
       "<p>22818 rows × 18 columns</p>\n",
       "</div>"
      ],
      "text/plain": [
       "                                       Name   Fueltype     Technology Set  \\\n",
       "id                                                                          \n",
       "0                                  Borssele  Hard Coal  Steam Turbine  PP   \n",
       "1                               Flamanville    Nuclear  Steam Turbine  PP   \n",
       "2                                   Emsland    Nuclear  Steam Turbine  PP   \n",
       "3                      Kernkraftwerk Gosgen    Nuclear  Steam Turbine  PP   \n",
       "4                                Oskarshamn    Nuclear  Steam Turbine  PP   \n",
       "...                                     ...        ...            ...  ..   \n",
       "23112                          Zwolle Solar      Solar             PV  PP   \n",
       "23113                          Zwolle Solar      Solar             PV  PP   \n",
       "23114               Zychlin Kutnowski Solar      Solar             PV  PP   \n",
       "23115              Zydowo Koszalinski Solar      Solar             PV  PP   \n",
       "23116  Zygourolivado Palio Mandri Wind Farm       Wind        Onshore  PP   \n",
       "\n",
       "           Country  Capacity  Efficiency  DateIn  DateRetrofit  DateOut  \\\n",
       "id                                                                        \n",
       "0      Netherlands     485.0         NaN  1973.0           NaN   2034.0   \n",
       "1           France    2660.0         NaN  1985.0           NaN   2051.0   \n",
       "2          Germany    1336.0        0.33  1988.0        1988.0   2023.0   \n",
       "3      Switzerland    1020.0         NaN  1979.0        1979.0   2051.0   \n",
       "4           Sweden    1400.0         NaN  1972.0        2006.0   2051.0   \n",
       "...            ...       ...         ...     ...           ...      ...   \n",
       "23112  Netherlands       5.2         NaN  2019.0           NaN      NaN   \n",
       "23113  Netherlands      16.3         NaN  2021.0           NaN      NaN   \n",
       "23114       Poland       2.3         NaN     NaN           NaN      NaN   \n",
       "23115       Poland       1.0         NaN     NaN           NaN      NaN   \n",
       "23116       Greece      43.2         NaN  2024.0           NaN      NaN   \n",
       "\n",
       "           lat       lon  Duration  Volume_Mm3  DamHeight_m  \\\n",
       "id                                                            \n",
       "0      51.4332   3.71600       NaN         0.0          0.0   \n",
       "1      49.5366  -1.88230       NaN         0.0          0.0   \n",
       "2      52.4716   7.32040       NaN         0.0          0.0   \n",
       "3      47.3656   7.96801       NaN         0.0          0.0   \n",
       "4      57.4166  16.67301       NaN         0.0          0.0   \n",
       "...        ...       ...       ...         ...          ...   \n",
       "23112  52.5066   6.13770       NaN         0.0          0.0   \n",
       "23113  52.4610   6.12300       NaN         0.0          0.0   \n",
       "23114  52.2440  19.62610       NaN         0.0          0.0   \n",
       "23115  54.0427  16.71800       NaN         0.0          0.0   \n",
       "23116  39.3140  21.62500       NaN         0.0          0.0   \n",
       "\n",
       "       StorageCapacity_MWh                                       EIC  \\\n",
       "id                                                                     \n",
       "0                      0.0                      {'49W000000000054X'}   \n",
       "1                      0.0  {'17W100P100P0210Y', '17W100P100P0209J'}   \n",
       "2                      0.0                      {'11WD7KKE-1K--KW5'}   \n",
       "3                      0.0                      {'12W-0000000056-1'}   \n",
       "4                      0.0                      {'46WPU0000000061P'}   \n",
       "...                    ...                                       ...   \n",
       "23112                  0.0                                     {nan}   \n",
       "23113                  0.0                                     {nan}   \n",
       "23114                  0.0                                     {nan}   \n",
       "23115                  0.0                                     {nan}   \n",
       "23116                  0.0                                     {nan}   \n",
       "\n",
       "                                               projectID  \n",
       "id                                                        \n",
       "0      {'BEYONDCOAL': {'BEYOND-NL-2'}, 'ENTSOE': {'49...  \n",
       "1      {'ENTSOE': {'17W100P100P0210Y', '17W100P100P02...  \n",
       "2      {'ENTSOE': {'11WD7KKE-1K--KW5'}, 'GEM': {'G100...  \n",
       "3      {'ENTSOE': {'12W-0000000056-1'}, 'GEM': {'G100...  \n",
       "4      {'ENTSOE': {'46WPU0000000061P'}, 'GEM': {'G100...  \n",
       "...                                                  ...  \n",
       "23112                         {'GEM': {'G100001008668'}}  \n",
       "23113                         {'GEM': {'G100001008669'}}  \n",
       "23114                         {'GEM': {'G100001007329'}}  \n",
       "23115                         {'GEM': {'G100001007483'}}  \n",
       "23116                         {'GEM': {'G100000917902'}}  \n",
       "\n",
       "[22818 rows x 18 columns]"
      ]
     },
     "execution_count": 89,
     "metadata": {},
     "output_type": "execute_result"
    }
   ],
   "source": [
    "df.rename(columns=dict(type=\"reactor\"))"
   ]
  },
  {
   "cell_type": "markdown",
   "metadata": {},
   "source": [
    "Sometimes it can be useful to replace values:"
   ]
  },
  {
   "cell_type": "code",
   "execution_count": 62,
   "metadata": {},
   "outputs": [
    {
     "data": {
      "text/html": [
       "<div>\n",
       "<style scoped>\n",
       "    .dataframe tbody tr th:only-of-type {\n",
       "        vertical-align: middle;\n",
       "    }\n",
       "\n",
       "    .dataframe tbody tr th {\n",
       "        vertical-align: top;\n",
       "    }\n",
       "\n",
       "    .dataframe thead th {\n",
       "        text-align: right;\n",
       "    }\n",
       "</style>\n",
       "<table border=\"1\" class=\"dataframe\">\n",
       "  <thead>\n",
       "    <tr style=\"text-align: right;\">\n",
       "      <th></th>\n",
       "      <th>capacity</th>\n",
       "      <th>type</th>\n",
       "      <th>start_year</th>\n",
       "      <th>end_year</th>\n",
       "    </tr>\n",
       "  </thead>\n",
       "  <tbody>\n",
       "    <tr>\n",
       "      <th>Neckarwestheim</th>\n",
       "      <td>1269</td>\n",
       "      <td>Pressurized water reactor</td>\n",
       "      <td>1989</td>\n",
       "      <td>NaN</td>\n",
       "    </tr>\n",
       "    <tr>\n",
       "      <th>Isar 2</th>\n",
       "      <td>1366</td>\n",
       "      <td>Pressurized water reactor</td>\n",
       "      <td>1988</td>\n",
       "      <td>NaN</td>\n",
       "    </tr>\n",
       "    <tr>\n",
       "      <th>Emsland</th>\n",
       "      <td>1290</td>\n",
       "      <td>Pressurized water reactor</td>\n",
       "      <td>1988</td>\n",
       "      <td>NaN</td>\n",
       "    </tr>\n",
       "  </tbody>\n",
       "</table>\n",
       "</div>"
      ],
      "text/plain": [
       "                capacity                       type  start_year  end_year\n",
       "Neckarwestheim      1269  Pressurized water reactor        1989       NaN\n",
       "Isar 2              1366  Pressurized water reactor        1988       NaN\n",
       "Emsland             1290  Pressurized water reactor        1988       NaN"
      ]
     },
     "execution_count": 62,
     "metadata": {},
     "output_type": "execute_result"
    }
   ],
   "source": [
    "df.replace({\"PWR\": \"Pressurized water reactor\"})"
   ]
  },
  {
   "cell_type": "markdown",
   "metadata": {},
   "source": [
    "## Time Series\n",
    "\n",
    "Time indexes are great when handling time-dependent data.\n",
    "\n",
    "Let's first read some time series data, using the `pd.read_csv()` function, which takes a local file path ora link to an online resource.\n",
    "\n",
    "The example data hourly time series for Germany in 2015 for:\n",
    "    \n",
    "1. electricity demand from [OPSD](https://open-power-system-data.org/) in GW\n",
    "2. onshore wind capacity factors from [renewables.ninja](https://www.renewables.ninja/) in per-unit of installed capacity\n",
    "3. offshore wind capacity factors from [renewables.ninja](https://www.renewables.ninja/) in per-unit of installed capacity\n",
    "4. solar PV capacity factors from [renewables.ninja](https://www.renewables.ninja/) in per-unit of installed capacity\n",
    "5. electricity day-ahead spot market prices in €/MWh from EPEX Spot zone DE/AT/LU retrieved via [SMARD platform](https://www.smard.de/home)"
   ]
  },
  {
   "cell_type": "code",
   "execution_count": 96,
   "metadata": {},
   "outputs": [
    {
     "data": {
      "text/html": [
       "<div>\n",
       "<style scoped>\n",
       "    .dataframe tbody tr th:only-of-type {\n",
       "        vertical-align: middle;\n",
       "    }\n",
       "\n",
       "    .dataframe tbody tr th {\n",
       "        vertical-align: top;\n",
       "    }\n",
       "\n",
       "    .dataframe thead th {\n",
       "        text-align: right;\n",
       "    }\n",
       "</style>\n",
       "<table border=\"1\" class=\"dataframe\">\n",
       "  <thead>\n",
       "    <tr style=\"text-align: right;\">\n",
       "      <th></th>\n",
       "      <th>load</th>\n",
       "      <th>onwind</th>\n",
       "      <th>offwind</th>\n",
       "      <th>solar</th>\n",
       "      <th>prices</th>\n",
       "    </tr>\n",
       "  </thead>\n",
       "  <tbody>\n",
       "    <tr>\n",
       "      <th>2015-01-01 00:00:00</th>\n",
       "      <td>41.151</td>\n",
       "      <td>0.1566</td>\n",
       "      <td>0.7030</td>\n",
       "      <td>0.0</td>\n",
       "      <td>NaN</td>\n",
       "    </tr>\n",
       "    <tr>\n",
       "      <th>2015-01-01 01:00:00</th>\n",
       "      <td>40.135</td>\n",
       "      <td>0.1659</td>\n",
       "      <td>0.6875</td>\n",
       "      <td>0.0</td>\n",
       "      <td>NaN</td>\n",
       "    </tr>\n",
       "    <tr>\n",
       "      <th>2015-01-01 02:00:00</th>\n",
       "      <td>39.106</td>\n",
       "      <td>0.1746</td>\n",
       "      <td>0.6535</td>\n",
       "      <td>0.0</td>\n",
       "      <td>NaN</td>\n",
       "    </tr>\n",
       "    <tr>\n",
       "      <th>2015-01-01 03:00:00</th>\n",
       "      <td>38.765</td>\n",
       "      <td>0.1745</td>\n",
       "      <td>0.6803</td>\n",
       "      <td>0.0</td>\n",
       "      <td>NaN</td>\n",
       "    </tr>\n",
       "    <tr>\n",
       "      <th>2015-01-01 04:00:00</th>\n",
       "      <td>38.941</td>\n",
       "      <td>0.1826</td>\n",
       "      <td>0.7272</td>\n",
       "      <td>0.0</td>\n",
       "      <td>NaN</td>\n",
       "    </tr>\n",
       "  </tbody>\n",
       "</table>\n",
       "</div>"
      ],
      "text/plain": [
       "                       load  onwind  offwind  solar  prices\n",
       "2015-01-01 00:00:00  41.151  0.1566   0.7030    0.0     NaN\n",
       "2015-01-01 01:00:00  40.135  0.1659   0.6875    0.0     NaN\n",
       "2015-01-01 02:00:00  39.106  0.1746   0.6535    0.0     NaN\n",
       "2015-01-01 03:00:00  38.765  0.1745   0.6803    0.0     NaN\n",
       "2015-01-01 04:00:00  38.941  0.1826   0.7272    0.0     NaN"
      ]
     },
     "execution_count": 96,
     "metadata": {},
     "output_type": "execute_result"
    }
   ],
   "source": [
    "url = \"https://tubcloud.tu-berlin.de/s/pKttFadrbTKSJKF/download/time-series-lecture-2.csv\"\n",
    "ts = pd.read_csv(url, index_col=0, parse_dates=True)\n",
    "ts.head()"
   ]
  },
  {
   "cell_type": "markdown",
   "metadata": {},
   "source": [
    "We can use Python's _slicing_ notation inside `.loc` to select a date range, and then use the built-in plotting feature of Pandas:"
   ]
  },
  {
   "cell_type": "code",
   "execution_count": 103,
   "metadata": {},
   "outputs": [
    {
     "data": {
      "text/plain": [
       "<Axes: >"
      ]
     },
     "execution_count": 103,
     "metadata": {},
     "output_type": "execute_result"
    },
    {
     "data": {
      "image/png": "[encoded data removed]",
      "text/plain": [
       "<Figure size 640x480 with 1 Axes>"
      ]
     },
     "metadata": {},
     "output_type": "display_data"
    }
   ],
   "source": [
    "ts.loc[\"2015-01-01\":\"2015-03-01\", \"load\"].plot()"
   ]
  },
  {
   "cell_type": "code",
   "execution_count": 104,
   "metadata": {},
   "outputs": [
    {
     "data": {
      "text/plain": [
       "<Axes: >"
      ]
     },
     "execution_count": 104,
     "metadata": {},
     "output_type": "execute_result"
    },
    {
     "data": {
      "image/png": "[encoded data removed]",
      "text/plain": [
       "<Figure size 640x480 with 1 Axes>"
      ]
     },
     "metadata": {},
     "output_type": "display_data"
    }
   ],
   "source": [
    "ts.loc[\"2015-05-01\", \"solar\"].plot()"
   ]
  },
  {
   "cell_type": "markdown",
   "metadata": {},
   "source": [
    "A common operation is to change the resolution of a dataset by resampling in time, which Pandas exposes through the [resample](http://pandas.pydata.org/pandas-docs/stable/timeseries.html#resampling) function.\n",
    "\n",
    ":::{note}\n",
    "The resample periods are specified using pandas [offset index](http://pandas.pydata.org/pandas-docs/stable/timeseries.html#offset-aliases) syntax.\n",
    ":::"
   ]
  },
  {
   "cell_type": "code",
   "execution_count": 105,
   "metadata": {},
   "outputs": [
    {
     "data": {
      "text/plain": [
       "<Axes: >"
      ]
     },
     "execution_count": 105,
     "metadata": {},
     "output_type": "execute_result"
    },
    {
     "data": {
      "image/png": "[encoded data removed]",
      "text/plain": [
       "<Figure size 640x480 with 1 Axes>"
      ]
     },
     "metadata": {},
     "output_type": "display_data"
    }
   ],
   "source": [
    "ts[\"onwind\"].resample(\"ME\").mean().plot()"
   ]
  },
  {
   "cell_type": "markdown",
   "metadata": {},
   "source": [
    "## Groupby Functionality"
   ]
  },
  {
   "cell_type": "markdown",
   "metadata": {},
   "source": [
    "`DataFrame` objects have a `groupby` method. The simplest way to think about it is that you pass another series, whose values are used to split the original object into different groups.\n",
    "\n",
    "Here's an example which retrieves the total generation capacity per country:"
   ]
  },
  {
   "cell_type": "code",
   "execution_count": 71,
   "metadata": {},
   "outputs": [],
   "source": [
    "fn = \"https://raw.githubusercontent.com/PyPSA/powerplantmatching/master/powerplants.csv\""
   ]
  },
  {
   "cell_type": "code",
   "execution_count": 72,
   "metadata": {},
   "outputs": [
    {
     "data": {
      "text/html": [
       "<div>\n",
       "<style scoped>\n",
       "    .dataframe tbody tr th:only-of-type {\n",
       "        vertical-align: middle;\n",
       "    }\n",
       "\n",
       "    .dataframe tbody tr th {\n",
       "        vertical-align: top;\n",
       "    }\n",
       "\n",
       "    .dataframe thead th {\n",
       "        text-align: right;\n",
       "    }\n",
       "</style>\n",
       "<table border=\"1\" class=\"dataframe\">\n",
       "  <thead>\n",
       "    <tr style=\"text-align: right;\">\n",
       "      <th></th>\n",
       "      <th>Name</th>\n",
       "      <th>Fueltype</th>\n",
       "      <th>Technology</th>\n",
       "      <th>Set</th>\n",
       "      <th>Country</th>\n",
       "      <th>Capacity</th>\n",
       "      <th>Efficiency</th>\n",
       "      <th>DateIn</th>\n",
       "      <th>DateRetrofit</th>\n",
       "      <th>DateOut</th>\n",
       "    </tr>\n",
       "    <tr>\n",
       "      <th>id</th>\n",
       "      <th></th>\n",
       "      <th></th>\n",
       "      <th></th>\n",
       "      <th></th>\n",
       "      <th></th>\n",
       "      <th></th>\n",
       "      <th></th>\n",
       "      <th></th>\n",
       "      <th></th>\n",
       "      <th></th>\n",
       "    </tr>\n",
       "  </thead>\n",
       "  <tbody>\n",
       "    <tr>\n",
       "      <th>0</th>\n",
       "      <td>Borssele</td>\n",
       "      <td>Hard Coal</td>\n",
       "      <td>Steam Turbine</td>\n",
       "      <td>PP</td>\n",
       "      <td>Netherlands</td>\n",
       "      <td>485.0</td>\n",
       "      <td>NaN</td>\n",
       "      <td>1973.0</td>\n",
       "      <td>NaN</td>\n",
       "      <td>2034.0</td>\n",
       "    </tr>\n",
       "    <tr>\n",
       "      <th>1</th>\n",
       "      <td>Flamanville</td>\n",
       "      <td>Nuclear</td>\n",
       "      <td>Steam Turbine</td>\n",
       "      <td>PP</td>\n",
       "      <td>France</td>\n",
       "      <td>2660.0</td>\n",
       "      <td>NaN</td>\n",
       "      <td>1985.0</td>\n",
       "      <td>NaN</td>\n",
       "      <td>2051.0</td>\n",
       "    </tr>\n",
       "    <tr>\n",
       "      <th>2</th>\n",
       "      <td>Emsland</td>\n",
       "      <td>Nuclear</td>\n",
       "      <td>Steam Turbine</td>\n",
       "      <td>PP</td>\n",
       "      <td>Germany</td>\n",
       "      <td>1336.0</td>\n",
       "      <td>0.33</td>\n",
       "      <td>1988.0</td>\n",
       "      <td>1988.0</td>\n",
       "      <td>2023.0</td>\n",
       "    </tr>\n",
       "    <tr>\n",
       "      <th>3</th>\n",
       "      <td>Kernkraftwerk Gosgen</td>\n",
       "      <td>Nuclear</td>\n",
       "      <td>Steam Turbine</td>\n",
       "      <td>PP</td>\n",
       "      <td>Switzerland</td>\n",
       "      <td>1020.0</td>\n",
       "      <td>NaN</td>\n",
       "      <td>1979.0</td>\n",
       "      <td>1979.0</td>\n",
       "      <td>2051.0</td>\n",
       "    </tr>\n",
       "    <tr>\n",
       "      <th>4</th>\n",
       "      <td>Oskarshamn</td>\n",
       "      <td>Nuclear</td>\n",
       "      <td>Steam Turbine</td>\n",
       "      <td>PP</td>\n",
       "      <td>Sweden</td>\n",
       "      <td>1400.0</td>\n",
       "      <td>NaN</td>\n",
       "      <td>1972.0</td>\n",
       "      <td>2006.0</td>\n",
       "      <td>2051.0</td>\n",
       "    </tr>\n",
       "  </tbody>\n",
       "</table>\n",
       "</div>"
      ],
      "text/plain": [
       "                    Name   Fueltype     Technology Set      Country  Capacity  \\\n",
       "id                                                                              \n",
       "0               Borssele  Hard Coal  Steam Turbine  PP  Netherlands     485.0   \n",
       "1            Flamanville    Nuclear  Steam Turbine  PP       France    2660.0   \n",
       "2                Emsland    Nuclear  Steam Turbine  PP      Germany    1336.0   \n",
       "3   Kernkraftwerk Gosgen    Nuclear  Steam Turbine  PP  Switzerland    1020.0   \n",
       "4             Oskarshamn    Nuclear  Steam Turbine  PP       Sweden    1400.0   \n",
       "\n",
       "    Efficiency  DateIn  DateRetrofit  DateOut  \n",
       "id                                             \n",
       "0          NaN  1973.0           NaN   2034.0  \n",
       "1          NaN  1985.0           NaN   2051.0  \n",
       "2         0.33  1988.0        1988.0   2023.0  \n",
       "3          NaN  1979.0        1979.0   2051.0  \n",
       "4          NaN  1972.0        2006.0   2051.0  "
      ]
     },
     "execution_count": 72,
     "metadata": {},
     "output_type": "execute_result"
    }
   ],
   "source": [
    "df = pd.read_csv(fn, index_col=0)\n",
    "df.iloc[:5, :10]"
   ]
  },
  {
   "cell_type": "code",
   "execution_count": 73,
   "metadata": {},
   "outputs": [
    {
     "data": {
      "text/plain": [
       "Country\n",
       "Albania                    2361.708275\n",
       "Austria                   25458.200368\n",
       "Belgium                   21426.651009\n",
       "Bosnia and Herzegovina     4827.195964\n",
       "Bulgaria                  15699.186363\n",
       "Name: Capacity, dtype: float64"
      ]
     },
     "execution_count": 73,
     "metadata": {},
     "output_type": "execute_result"
    }
   ],
   "source": [
    "grouped = df.groupby(\"Country\").Capacity.sum()\n",
    "grouped.head()"
   ]
  },
  {
   "cell_type": "markdown",
   "metadata": {},
   "source": [
    "Let's break apart this operation a bit. The workflow with `groupby` can be divided into three general steps:\n",
    "\n",
    "1. **Split**: Partition the data into different groups based on some criterion.\n",
    "2. **Apply**: Do some caclulation within each group, e.g. minimum, maximum, sums.\n",
    "3. **Combine**: Put the results back together into a single object.\n",
    "\n",
    "<img src=\"https://miro.medium.com/max/1840/1*JbF6nhrQsn4f-TaSF6IR9g.png\" width=\"720px\" />"
   ]
  },
  {
   "cell_type": "markdown",
   "metadata": {},
   "source": [
    "Grouping is not only possible on a single columns, but also on multiple columns. For instance,\n",
    "we might want to group the capacities by country **and** fuel type. To achieve this, we pass a list of functions to the `groupby` functions."
   ]
  },
  {
   "cell_type": "code",
   "execution_count": 74,
   "metadata": {},
   "outputs": [
    {
     "data": {
      "text/plain": [
       "Country         Fueltype     \n",
       "Albania         Hydro             1743.353732\n",
       "                Oil                 89.854543\n",
       "                Solar              294.500000\n",
       "                Wind               234.000000\n",
       "Austria         Hard Coal         1331.400000\n",
       "                                     ...     \n",
       "United Kingdom  Other               55.000000\n",
       "                Solar            11668.600000\n",
       "                Solid Biomass     4919.000000\n",
       "                Waste              288.900000\n",
       "                Wind             38670.300000\n",
       "Name: Capacity, Length: 243, dtype: float64"
      ]
     },
     "execution_count": 74,
     "metadata": {},
     "output_type": "execute_result"
    }
   ],
   "source": [
    "capacities = df.groupby([\"Country\", \"Fueltype\"]).Capacity.sum()\n",
    "capacities"
   ]
  },
  {
   "cell_type": "markdown",
   "metadata": {},
   "source": [
    "By grouping by multiple attributes, our index becomes a `pd.MultiIndex` (a hierarchical index with multiple *levels*."
   ]
  },
  {
   "cell_type": "code",
   "execution_count": 75,
   "metadata": {},
   "outputs": [
    {
     "data": {
      "text/plain": [
       "MultiIndex([('Albania',     'Hydro'),\n",
       "            ('Albania',       'Oil'),\n",
       "            ('Albania',     'Solar'),\n",
       "            ('Albania',      'Wind'),\n",
       "            ('Austria', 'Hard Coal')],\n",
       "           names=['Country', 'Fueltype'])"
      ]
     },
     "execution_count": 75,
     "metadata": {},
     "output_type": "execute_result"
    }
   ],
   "source": [
    "capacities.index[:5]"
   ]
  },
  {
   "cell_type": "markdown",
   "metadata": {},
   "source": [
    "We can use the `.unstack` function to reshape the multi-indexed `pd.Series` into a `pd.DataFrame` which has the second index level as columns. "
   ]
  },
  {
   "cell_type": "code",
   "execution_count": 76,
   "metadata": {},
   "outputs": [
    {
     "data": {
      "text/html": [
       "<div>\n",
       "<style scoped>\n",
       "    .dataframe tbody tr th:only-of-type {\n",
       "        vertical-align: middle;\n",
       "    }\n",
       "\n",
       "    .dataframe tbody tr th {\n",
       "        vertical-align: top;\n",
       "    }\n",
       "\n",
       "    .dataframe thead th {\n",
       "        text-align: right;\n",
       "    }\n",
       "</style>\n",
       "<table border=\"1\" class=\"dataframe\">\n",
       "  <thead>\n",
       "    <tr style=\"text-align: right;\">\n",
       "      <th>Country</th>\n",
       "      <th>Spain</th>\n",
       "      <th>Sweden</th>\n",
       "      <th>Switzerland</th>\n",
       "      <th>Ukraine</th>\n",
       "      <th>United Kingdom</th>\n",
       "    </tr>\n",
       "    <tr>\n",
       "      <th>Fueltype</th>\n",
       "      <th></th>\n",
       "      <th></th>\n",
       "      <th></th>\n",
       "      <th></th>\n",
       "      <th></th>\n",
       "    </tr>\n",
       "  </thead>\n",
       "  <tbody>\n",
       "    <tr>\n",
       "      <th>Biogas</th>\n",
       "      <td>NaN</td>\n",
       "      <td>NaN</td>\n",
       "      <td>NaN</td>\n",
       "      <td>NaN</td>\n",
       "      <td>31.000000</td>\n",
       "    </tr>\n",
       "    <tr>\n",
       "      <th>Geothermal</th>\n",
       "      <td>NaN</td>\n",
       "      <td>NaN</td>\n",
       "      <td>NaN</td>\n",
       "      <td>NaN</td>\n",
       "      <td>NaN</td>\n",
       "    </tr>\n",
       "    <tr>\n",
       "      <th>Hard Coal</th>\n",
       "      <td>11904.878478</td>\n",
       "      <td>291.000000</td>\n",
       "      <td>NaN</td>\n",
       "      <td>23782.495570</td>\n",
       "      <td>33823.617061</td>\n",
       "    </tr>\n",
       "    <tr>\n",
       "      <th>Hydro</th>\n",
       "      <td>26069.861248</td>\n",
       "      <td>14273.686625</td>\n",
       "      <td>20123.3008</td>\n",
       "      <td>6599.452229</td>\n",
       "      <td>4576.175000</td>\n",
       "    </tr>\n",
       "    <tr>\n",
       "      <th>Lignite</th>\n",
       "      <td>1831.400000</td>\n",
       "      <td>NaN</td>\n",
       "      <td>NaN</td>\n",
       "      <td>NaN</td>\n",
       "      <td>NaN</td>\n",
       "    </tr>\n",
       "    <tr>\n",
       "      <th>Natural Gas</th>\n",
       "      <td>28394.244000</td>\n",
       "      <td>2358.000000</td>\n",
       "      <td>55.0000</td>\n",
       "      <td>4687.900000</td>\n",
       "      <td>36284.975440</td>\n",
       "    </tr>\n",
       "    <tr>\n",
       "      <th>Nuclear</th>\n",
       "      <td>7733.200000</td>\n",
       "      <td>9859.000000</td>\n",
       "      <td>3355.0000</td>\n",
       "      <td>17635.000000</td>\n",
       "      <td>19181.000000</td>\n",
       "    </tr>\n",
       "    <tr>\n",
       "      <th>Oil</th>\n",
       "      <td>1854.371000</td>\n",
       "      <td>1685.000000</td>\n",
       "      <td>NaN</td>\n",
       "      <td>NaN</td>\n",
       "      <td>100.000000</td>\n",
       "    </tr>\n",
       "    <tr>\n",
       "      <th>Other</th>\n",
       "      <td>NaN</td>\n",
       "      <td>NaN</td>\n",
       "      <td>NaN</td>\n",
       "      <td>NaN</td>\n",
       "      <td>55.000000</td>\n",
       "    </tr>\n",
       "    <tr>\n",
       "      <th>Solar</th>\n",
       "      <td>36998.200000</td>\n",
       "      <td>281.800000</td>\n",
       "      <td>96.8000</td>\n",
       "      <td>5628.700000</td>\n",
       "      <td>11668.600000</td>\n",
       "    </tr>\n",
       "    <tr>\n",
       "      <th>Solid Biomass</th>\n",
       "      <td>563.000000</td>\n",
       "      <td>2432.600000</td>\n",
       "      <td>NaN</td>\n",
       "      <td>NaN</td>\n",
       "      <td>4919.000000</td>\n",
       "    </tr>\n",
       "    <tr>\n",
       "      <th>Waste</th>\n",
       "      <td>388.054000</td>\n",
       "      <td>NaN</td>\n",
       "      <td>NaN</td>\n",
       "      <td>NaN</td>\n",
       "      <td>288.900000</td>\n",
       "    </tr>\n",
       "    <tr>\n",
       "      <th>Wind</th>\n",
       "      <td>34371.650000</td>\n",
       "      <td>16958.800000</td>\n",
       "      <td>55.0000</td>\n",
       "      <td>461.400000</td>\n",
       "      <td>38670.300000</td>\n",
       "    </tr>\n",
       "  </tbody>\n",
       "</table>\n",
       "</div>"
      ],
      "text/plain": [
       "Country               Spain        Sweden  Switzerland       Ukraine  \\\n",
       "Fueltype                                                               \n",
       "Biogas                  NaN           NaN          NaN           NaN   \n",
       "Geothermal              NaN           NaN          NaN           NaN   \n",
       "Hard Coal      11904.878478    291.000000          NaN  23782.495570   \n",
       "Hydro          26069.861248  14273.686625   20123.3008   6599.452229   \n",
       "Lignite         1831.400000           NaN          NaN           NaN   \n",
       "Natural Gas    28394.244000   2358.000000      55.0000   4687.900000   \n",
       "Nuclear         7733.200000   9859.000000    3355.0000  17635.000000   \n",
       "Oil             1854.371000   1685.000000          NaN           NaN   \n",
       "Other                   NaN           NaN          NaN           NaN   \n",
       "Solar          36998.200000    281.800000      96.8000   5628.700000   \n",
       "Solid Biomass    563.000000   2432.600000          NaN           NaN   \n",
       "Waste            388.054000           NaN          NaN           NaN   \n",
       "Wind           34371.650000  16958.800000      55.0000    461.400000   \n",
       "\n",
       "Country        United Kingdom  \n",
       "Fueltype                       \n",
       "Biogas              31.000000  \n",
       "Geothermal                NaN  \n",
       "Hard Coal        33823.617061  \n",
       "Hydro             4576.175000  \n",
       "Lignite                   NaN  \n",
       "Natural Gas      36284.975440  \n",
       "Nuclear          19181.000000  \n",
       "Oil                100.000000  \n",
       "Other               55.000000  \n",
       "Solar            11668.600000  \n",
       "Solid Biomass     4919.000000  \n",
       "Waste              288.900000  \n",
       "Wind             38670.300000  "
      ]
     },
     "execution_count": 76,
     "metadata": {},
     "output_type": "execute_result"
    }
   ],
   "source": [
    "capacities.unstack().tail().T"
   ]
  },
  {
   "cell_type": "markdown",
   "metadata": {},
   "source": [
    "## Exercises"
   ]
  },
  {
   "cell_type": "markdown",
   "metadata": {},
   "source": [
    "**Task 1:** Provide a list of unique fuel types included in the power plants dataset."
   ]
  },
  {
   "cell_type": "code",
   "execution_count": 78,
   "metadata": {
    "tags": [
     "hide-cell"
    ]
   },
   "outputs": [
    {
     "data": {
      "text/plain": [
       "array(['Hard Coal', 'Nuclear', 'Hydro', 'Lignite', 'Natural Gas',\n",
       "       'Solid Biomass', 'Oil', 'Other', 'Solar', 'Wind', 'Geothermal',\n",
       "       'Waste', 'Biogas'], dtype=object)"
      ]
     },
     "execution_count": 78,
     "metadata": {},
     "output_type": "execute_result"
    }
   ],
   "source": [
    "df.Fueltype.unique()"
   ]
  },
  {
   "cell_type": "markdown",
   "metadata": {},
   "source": [
    "**Task 2:** Filter the dataset by power plants with the fuel type \"Hard Coal\". How many hard coal power plants are there?"
   ]
  },
  {
   "cell_type": "code",
   "execution_count": 80,
   "metadata": {
    "tags": [
     "hide-cell"
    ]
   },
   "outputs": [
    {
     "data": {
      "text/html": [
       "<div>\n",
       "<style scoped>\n",
       "    .dataframe tbody tr th:only-of-type {\n",
       "        vertical-align: middle;\n",
       "    }\n",
       "\n",
       "    .dataframe tbody tr th {\n",
       "        vertical-align: top;\n",
       "    }\n",
       "\n",
       "    .dataframe thead th {\n",
       "        text-align: right;\n",
       "    }\n",
       "</style>\n",
       "<table border=\"1\" class=\"dataframe\">\n",
       "  <thead>\n",
       "    <tr style=\"text-align: right;\">\n",
       "      <th></th>\n",
       "      <th>Name</th>\n",
       "      <th>Fueltype</th>\n",
       "      <th>Technology</th>\n",
       "      <th>Set</th>\n",
       "      <th>Country</th>\n",
       "      <th>Capacity</th>\n",
       "      <th>Efficiency</th>\n",
       "      <th>DateIn</th>\n",
       "      <th>DateRetrofit</th>\n",
       "      <th>DateOut</th>\n",
       "      <th>lat</th>\n",
       "      <th>lon</th>\n",
       "      <th>Duration</th>\n",
       "      <th>Volume_Mm3</th>\n",
       "      <th>DamHeight_m</th>\n",
       "      <th>StorageCapacity_MWh</th>\n",
       "      <th>EIC</th>\n",
       "      <th>projectID</th>\n",
       "    </tr>\n",
       "    <tr>\n",
       "      <th>id</th>\n",
       "      <th></th>\n",
       "      <th></th>\n",
       "      <th></th>\n",
       "      <th></th>\n",
       "      <th></th>\n",
       "      <th></th>\n",
       "      <th></th>\n",
       "      <th></th>\n",
       "      <th></th>\n",
       "      <th></th>\n",
       "      <th></th>\n",
       "      <th></th>\n",
       "      <th></th>\n",
       "      <th></th>\n",
       "      <th></th>\n",
       "      <th></th>\n",
       "      <th></th>\n",
       "      <th></th>\n",
       "    </tr>\n",
       "  </thead>\n",
       "  <tbody>\n",
       "    <tr>\n",
       "      <th>0</th>\n",
       "      <td>Borssele</td>\n",
       "      <td>Hard Coal</td>\n",
       "      <td>Steam Turbine</td>\n",
       "      <td>PP</td>\n",
       "      <td>Netherlands</td>\n",
       "      <td>485.000000</td>\n",
       "      <td>NaN</td>\n",
       "      <td>1973.0</td>\n",
       "      <td>NaN</td>\n",
       "      <td>2034.0</td>\n",
       "      <td>51.433200</td>\n",
       "      <td>3.716000</td>\n",
       "      <td>NaN</td>\n",
       "      <td>0.0</td>\n",
       "      <td>0.0</td>\n",
       "      <td>0.0</td>\n",
       "      <td>{'49W000000000054X'}</td>\n",
       "      <td>{'BEYONDCOAL': {'BEYOND-NL-2'}, 'ENTSOE': {'49...</td>\n",
       "    </tr>\n",
       "    <tr>\n",
       "      <th>26</th>\n",
       "      <td>Mellach</td>\n",
       "      <td>Hard Coal</td>\n",
       "      <td>Steam Turbine</td>\n",
       "      <td>CHP</td>\n",
       "      <td>Austria</td>\n",
       "      <td>200.000000</td>\n",
       "      <td>NaN</td>\n",
       "      <td>1986.0</td>\n",
       "      <td>1986.0</td>\n",
       "      <td>2020.0</td>\n",
       "      <td>46.911700</td>\n",
       "      <td>15.488300</td>\n",
       "      <td>NaN</td>\n",
       "      <td>0.0</td>\n",
       "      <td>0.0</td>\n",
       "      <td>0.0</td>\n",
       "      <td>{'14W-WML-KW-----0'}</td>\n",
       "      <td>{'BEYONDCOAL': {'BEYOND-AT-11'}, 'ENTSOE': {'1...</td>\n",
       "    </tr>\n",
       "    <tr>\n",
       "      <th>136</th>\n",
       "      <td>Bastardo</td>\n",
       "      <td>Hard Coal</td>\n",
       "      <td>Steam Turbine</td>\n",
       "      <td>PP</td>\n",
       "      <td>Italy</td>\n",
       "      <td>138.290543</td>\n",
       "      <td>NaN</td>\n",
       "      <td>1989.0</td>\n",
       "      <td>NaN</td>\n",
       "      <td>2025.0</td>\n",
       "      <td>42.893300</td>\n",
       "      <td>12.539700</td>\n",
       "      <td>NaN</td>\n",
       "      <td>0.0</td>\n",
       "      <td>0.0</td>\n",
       "      <td>0.0</td>\n",
       "      <td>{'26WIMPI-S10BSTRJ'}</td>\n",
       "      <td>{'BEYONDCOAL': {'BEYOND-IT-10'}, 'ENTSOE': {'2...</td>\n",
       "    </tr>\n",
       "    <tr>\n",
       "      <th>137</th>\n",
       "      <td>Brindisi Sud</td>\n",
       "      <td>Hard Coal</td>\n",
       "      <td>Steam Turbine</td>\n",
       "      <td>PP</td>\n",
       "      <td>Italy</td>\n",
       "      <td>1825.435174</td>\n",
       "      <td>NaN</td>\n",
       "      <td>1991.0</td>\n",
       "      <td>NaN</td>\n",
       "      <td>2025.0</td>\n",
       "      <td>40.563900</td>\n",
       "      <td>18.032200</td>\n",
       "      <td>NaN</td>\n",
       "      <td>0.0</td>\n",
       "      <td>0.0</td>\n",
       "      <td>0.0</td>\n",
       "      <td>{'26WIMPI-S16BSCRY'}</td>\n",
       "      <td>{'BEYONDCOAL': {'BEYOND-IT-2'}, 'ENTSOE': {'26...</td>\n",
       "    </tr>\n",
       "    <tr>\n",
       "      <th>138</th>\n",
       "      <td>Fusina</td>\n",
       "      <td>Hard Coal</td>\n",
       "      <td>Steam Turbine</td>\n",
       "      <td>PP</td>\n",
       "      <td>Italy</td>\n",
       "      <td>899.810470</td>\n",
       "      <td>NaN</td>\n",
       "      <td>1964.0</td>\n",
       "      <td>NaN</td>\n",
       "      <td>2025.0</td>\n",
       "      <td>45.431400</td>\n",
       "      <td>12.245800</td>\n",
       "      <td>NaN</td>\n",
       "      <td>0.0</td>\n",
       "      <td>0.0</td>\n",
       "      <td>0.0</td>\n",
       "      <td>{'26WIMPI-S05FTSNK'}</td>\n",
       "      <td>{'BEYONDCOAL': {'BEYOND-IT-24'}, 'ENTSOE': {'2...</td>\n",
       "    </tr>\n",
       "    <tr>\n",
       "      <th>...</th>\n",
       "      <td>...</td>\n",
       "      <td>...</td>\n",
       "      <td>...</td>\n",
       "      <td>...</td>\n",
       "      <td>...</td>\n",
       "      <td>...</td>\n",
       "      <td>...</td>\n",
       "      <td>...</td>\n",
       "      <td>...</td>\n",
       "      <td>...</td>\n",
       "      <td>...</td>\n",
       "      <td>...</td>\n",
       "      <td>...</td>\n",
       "      <td>...</td>\n",
       "      <td>...</td>\n",
       "      <td>...</td>\n",
       "      <td>...</td>\n",
       "      <td>...</td>\n",
       "    </tr>\n",
       "    <tr>\n",
       "      <th>22671</th>\n",
       "      <td>Westerholt</td>\n",
       "      <td>Hard Coal</td>\n",
       "      <td>Steam Turbine</td>\n",
       "      <td>PP</td>\n",
       "      <td>Germany</td>\n",
       "      <td>300.000000</td>\n",
       "      <td>NaN</td>\n",
       "      <td>1959.0</td>\n",
       "      <td>NaN</td>\n",
       "      <td>2005.0</td>\n",
       "      <td>51.601111</td>\n",
       "      <td>7.063889</td>\n",
       "      <td>NaN</td>\n",
       "      <td>0.0</td>\n",
       "      <td>0.0</td>\n",
       "      <td>0.0</td>\n",
       "      <td>{nan, nan}</td>\n",
       "      <td>{'GEM': {'G100000114638', 'G100000114637'}}</td>\n",
       "    </tr>\n",
       "    <tr>\n",
       "      <th>22731</th>\n",
       "      <td>Wilhelmshaven Engie</td>\n",
       "      <td>Hard Coal</td>\n",
       "      <td>Steam Turbine</td>\n",
       "      <td>PP</td>\n",
       "      <td>Germany</td>\n",
       "      <td>830.000000</td>\n",
       "      <td>NaN</td>\n",
       "      <td>2015.0</td>\n",
       "      <td>NaN</td>\n",
       "      <td>NaN</td>\n",
       "      <td>53.574800</td>\n",
       "      <td>8.137000</td>\n",
       "      <td>NaN</td>\n",
       "      <td>0.0</td>\n",
       "      <td>0.0</td>\n",
       "      <td>0.0</td>\n",
       "      <td>{nan}</td>\n",
       "      <td>{'GEM': {'G100000110939'}}</td>\n",
       "    </tr>\n",
       "    <tr>\n",
       "      <th>22749</th>\n",
       "      <td>Wilton International</td>\n",
       "      <td>Hard Coal</td>\n",
       "      <td>Steam Turbine</td>\n",
       "      <td>PP</td>\n",
       "      <td>United Kingdom</td>\n",
       "      <td>66.600000</td>\n",
       "      <td>NaN</td>\n",
       "      <td>1964.0</td>\n",
       "      <td>NaN</td>\n",
       "      <td>2007.0</td>\n",
       "      <td>54.589400</td>\n",
       "      <td>-1.118500</td>\n",
       "      <td>NaN</td>\n",
       "      <td>0.0</td>\n",
       "      <td>0.0</td>\n",
       "      <td>0.0</td>\n",
       "      <td>{nan, nan}</td>\n",
       "      <td>{'GEM': {'G100000110950', 'G100000110949'}}</td>\n",
       "    </tr>\n",
       "    <tr>\n",
       "      <th>22805</th>\n",
       "      <td>Wolfsburg West</td>\n",
       "      <td>Hard Coal</td>\n",
       "      <td>Steam Turbine</td>\n",
       "      <td>PP</td>\n",
       "      <td>Germany</td>\n",
       "      <td>306.000000</td>\n",
       "      <td>NaN</td>\n",
       "      <td>1985.0</td>\n",
       "      <td>NaN</td>\n",
       "      <td>2024.0</td>\n",
       "      <td>52.441544</td>\n",
       "      <td>10.765079</td>\n",
       "      <td>NaN</td>\n",
       "      <td>0.0</td>\n",
       "      <td>0.0</td>\n",
       "      <td>0.0</td>\n",
       "      <td>{nan, nan}</td>\n",
       "      <td>{'GEM': {'G100000110964', 'G100000110963'}}</td>\n",
       "    </tr>\n",
       "    <tr>\n",
       "      <th>23021</th>\n",
       "      <td>Zeltweg</td>\n",
       "      <td>Hard Coal</td>\n",
       "      <td>Steam Turbine</td>\n",
       "      <td>PP</td>\n",
       "      <td>Austria</td>\n",
       "      <td>137.000000</td>\n",
       "      <td>NaN</td>\n",
       "      <td>1962.0</td>\n",
       "      <td>NaN</td>\n",
       "      <td>2001.0</td>\n",
       "      <td>47.250000</td>\n",
       "      <td>15.166667</td>\n",
       "      <td>NaN</td>\n",
       "      <td>0.0</td>\n",
       "      <td>0.0</td>\n",
       "      <td>0.0</td>\n",
       "      <td>{nan}</td>\n",
       "      <td>{'GEM': {'G100000111546'}}</td>\n",
       "    </tr>\n",
       "  </tbody>\n",
       "</table>\n",
       "<p>339 rows × 18 columns</p>\n",
       "</div>"
      ],
      "text/plain": [
       "                       Name   Fueltype     Technology  Set         Country  \\\n",
       "id                                                                           \n",
       "0                  Borssele  Hard Coal  Steam Turbine   PP     Netherlands   \n",
       "26                  Mellach  Hard Coal  Steam Turbine  CHP         Austria   \n",
       "136                Bastardo  Hard Coal  Steam Turbine   PP           Italy   \n",
       "137            Brindisi Sud  Hard Coal  Steam Turbine   PP           Italy   \n",
       "138                  Fusina  Hard Coal  Steam Turbine   PP           Italy   \n",
       "...                     ...        ...            ...  ...             ...   \n",
       "22671            Westerholt  Hard Coal  Steam Turbine   PP         Germany   \n",
       "22731   Wilhelmshaven Engie  Hard Coal  Steam Turbine   PP         Germany   \n",
       "22749  Wilton International  Hard Coal  Steam Turbine   PP  United Kingdom   \n",
       "22805        Wolfsburg West  Hard Coal  Steam Turbine   PP         Germany   \n",
       "23021               Zeltweg  Hard Coal  Steam Turbine   PP         Austria   \n",
       "\n",
       "          Capacity  Efficiency  DateIn  DateRetrofit  DateOut        lat  \\\n",
       "id                                                                         \n",
       "0       485.000000         NaN  1973.0           NaN   2034.0  51.433200   \n",
       "26      200.000000         NaN  1986.0        1986.0   2020.0  46.911700   \n",
       "136     138.290543         NaN  1989.0           NaN   2025.0  42.893300   \n",
       "137    1825.435174         NaN  1991.0           NaN   2025.0  40.563900   \n",
       "138     899.810470         NaN  1964.0           NaN   2025.0  45.431400   \n",
       "...            ...         ...     ...           ...      ...        ...   \n",
       "22671   300.000000         NaN  1959.0           NaN   2005.0  51.601111   \n",
       "22731   830.000000         NaN  2015.0           NaN      NaN  53.574800   \n",
       "22749    66.600000         NaN  1964.0           NaN   2007.0  54.589400   \n",
       "22805   306.000000         NaN  1985.0           NaN   2024.0  52.441544   \n",
       "23021   137.000000         NaN  1962.0           NaN   2001.0  47.250000   \n",
       "\n",
       "             lon  Duration  Volume_Mm3  DamHeight_m  StorageCapacity_MWh  \\\n",
       "id                                                                         \n",
       "0       3.716000       NaN         0.0          0.0                  0.0   \n",
       "26     15.488300       NaN         0.0          0.0                  0.0   \n",
       "136    12.539700       NaN         0.0          0.0                  0.0   \n",
       "137    18.032200       NaN         0.0          0.0                  0.0   \n",
       "138    12.245800       NaN         0.0          0.0                  0.0   \n",
       "...          ...       ...         ...          ...                  ...   \n",
       "22671   7.063889       NaN         0.0          0.0                  0.0   \n",
       "22731   8.137000       NaN         0.0          0.0                  0.0   \n",
       "22749  -1.118500       NaN         0.0          0.0                  0.0   \n",
       "22805  10.765079       NaN         0.0          0.0                  0.0   \n",
       "23021  15.166667       NaN         0.0          0.0                  0.0   \n",
       "\n",
       "                        EIC                                          projectID  \n",
       "id                                                                              \n",
       "0      {'49W000000000054X'}  {'BEYONDCOAL': {'BEYOND-NL-2'}, 'ENTSOE': {'49...  \n",
       "26     {'14W-WML-KW-----0'}  {'BEYONDCOAL': {'BEYOND-AT-11'}, 'ENTSOE': {'1...  \n",
       "136    {'26WIMPI-S10BSTRJ'}  {'BEYONDCOAL': {'BEYOND-IT-10'}, 'ENTSOE': {'2...  \n",
       "137    {'26WIMPI-S16BSCRY'}  {'BEYONDCOAL': {'BEYOND-IT-2'}, 'ENTSOE': {'26...  \n",
       "138    {'26WIMPI-S05FTSNK'}  {'BEYONDCOAL': {'BEYOND-IT-24'}, 'ENTSOE': {'2...  \n",
       "...                     ...                                                ...  \n",
       "22671            {nan, nan}        {'GEM': {'G100000114638', 'G100000114637'}}  \n",
       "22731                 {nan}                         {'GEM': {'G100000110939'}}  \n",
       "22749            {nan, nan}        {'GEM': {'G100000110950', 'G100000110949'}}  \n",
       "22805            {nan, nan}        {'GEM': {'G100000110964', 'G100000110963'}}  \n",
       "23021                 {nan}                         {'GEM': {'G100000111546'}}  \n",
       "\n",
       "[339 rows x 18 columns]"
      ]
     },
     "execution_count": 80,
     "metadata": {},
     "output_type": "execute_result"
    }
   ],
   "source": [
    "coal = df.loc[df.Fueltype == \"Hard Coal\"]\n",
    "coal"
   ]
  },
  {
   "cell_type": "markdown",
   "metadata": {},
   "source": [
    "**Task 3:** Identify the three largest coal power plants. In which countries are they located? When were they built?"
   ]
  },
  {
   "cell_type": "code",
   "execution_count": 107,
   "metadata": {
    "tags": [
     "hide-cell"
    ]
   },
   "outputs": [
    {
     "data": {
      "text/html": [
       "<div>\n",
       "<style scoped>\n",
       "    .dataframe tbody tr th:only-of-type {\n",
       "        vertical-align: middle;\n",
       "    }\n",
       "\n",
       "    .dataframe tbody tr th {\n",
       "        vertical-align: top;\n",
       "    }\n",
       "\n",
       "    .dataframe thead th {\n",
       "        text-align: right;\n",
       "    }\n",
       "</style>\n",
       "<table border=\"1\" class=\"dataframe\">\n",
       "  <thead>\n",
       "    <tr style=\"text-align: right;\">\n",
       "      <th></th>\n",
       "      <th>Name</th>\n",
       "      <th>Fueltype</th>\n",
       "      <th>Technology</th>\n",
       "      <th>Set</th>\n",
       "      <th>Country</th>\n",
       "      <th>Capacity</th>\n",
       "      <th>Efficiency</th>\n",
       "      <th>DateIn</th>\n",
       "      <th>DateRetrofit</th>\n",
       "      <th>DateOut</th>\n",
       "      <th>lat</th>\n",
       "      <th>lon</th>\n",
       "      <th>Duration</th>\n",
       "      <th>Volume_Mm3</th>\n",
       "      <th>DamHeight_m</th>\n",
       "      <th>StorageCapacity_MWh</th>\n",
       "      <th>EIC</th>\n",
       "      <th>projectID</th>\n",
       "    </tr>\n",
       "    <tr>\n",
       "      <th>id</th>\n",
       "      <th></th>\n",
       "      <th></th>\n",
       "      <th></th>\n",
       "      <th></th>\n",
       "      <th></th>\n",
       "      <th></th>\n",
       "      <th></th>\n",
       "      <th></th>\n",
       "      <th></th>\n",
       "      <th></th>\n",
       "      <th></th>\n",
       "      <th></th>\n",
       "      <th></th>\n",
       "      <th></th>\n",
       "      <th></th>\n",
       "      <th></th>\n",
       "      <th></th>\n",
       "      <th></th>\n",
       "    </tr>\n",
       "  </thead>\n",
       "  <tbody>\n",
       "    <tr>\n",
       "      <th>224</th>\n",
       "      <td>Kozienice</td>\n",
       "      <td>Hard Coal</td>\n",
       "      <td>Steam Turbine</td>\n",
       "      <td>PP</td>\n",
       "      <td>Poland</td>\n",
       "      <td>3682.216205</td>\n",
       "      <td>NaN</td>\n",
       "      <td>1972.0</td>\n",
       "      <td>NaN</td>\n",
       "      <td>2042.0</td>\n",
       "      <td>51.6647</td>\n",
       "      <td>21.46670</td>\n",
       "      <td>NaN</td>\n",
       "      <td>0.0</td>\n",
       "      <td>0.0</td>\n",
       "      <td>0.0</td>\n",
       "      <td>{'19W000000000104I', '19W000000000095U'}</td>\n",
       "      <td>{'BEYONDCOAL': {'BEYOND-PL-96'}, 'ENTSOE': {'1...</td>\n",
       "    </tr>\n",
       "    <tr>\n",
       "      <th>3465</th>\n",
       "      <td>Zaporiska</td>\n",
       "      <td>Hard Coal</td>\n",
       "      <td>CCGT</td>\n",
       "      <td>PP</td>\n",
       "      <td>Ukraine</td>\n",
       "      <td>3318.973044</td>\n",
       "      <td>NaN</td>\n",
       "      <td>1972.0</td>\n",
       "      <td>NaN</td>\n",
       "      <td>NaN</td>\n",
       "      <td>47.5089</td>\n",
       "      <td>34.62530</td>\n",
       "      <td>NaN</td>\n",
       "      <td>0.0</td>\n",
       "      <td>0.0</td>\n",
       "      <td>0.0</td>\n",
       "      <td>{nan, nan, nan, nan, nan, nan, nan}</td>\n",
       "      <td>{'GEO': {'GEO-42988'}, 'GPD': {'WRI1005101'}}</td>\n",
       "    </tr>\n",
       "    <tr>\n",
       "      <th>3466</th>\n",
       "      <td>Vuhlehirska Uglegorskaya</td>\n",
       "      <td>Hard Coal</td>\n",
       "      <td>CCGT</td>\n",
       "      <td>PP</td>\n",
       "      <td>Ukraine</td>\n",
       "      <td>3318.973044</td>\n",
       "      <td>NaN</td>\n",
       "      <td>1972.0</td>\n",
       "      <td>NaN</td>\n",
       "      <td>NaN</td>\n",
       "      <td>48.4633</td>\n",
       "      <td>38.20328</td>\n",
       "      <td>NaN</td>\n",
       "      <td>0.0</td>\n",
       "      <td>0.0</td>\n",
       "      <td>0.0</td>\n",
       "      <td>{nan, nan, nan, nan, nan, nan, nan}</td>\n",
       "      <td>{'GEO': {'GEO-43001'}, 'GPD': {'WRI1005107'}}</td>\n",
       "    </tr>\n",
       "  </tbody>\n",
       "</table>\n",
       "</div>"
      ],
      "text/plain": [
       "                          Name   Fueltype     Technology Set  Country  \\\n",
       "id                                                                      \n",
       "224                  Kozienice  Hard Coal  Steam Turbine  PP   Poland   \n",
       "3465                 Zaporiska  Hard Coal           CCGT  PP  Ukraine   \n",
       "3466  Vuhlehirska Uglegorskaya  Hard Coal           CCGT  PP  Ukraine   \n",
       "\n",
       "         Capacity  Efficiency  DateIn  DateRetrofit  DateOut      lat  \\\n",
       "id                                                                      \n",
       "224   3682.216205         NaN  1972.0           NaN   2042.0  51.6647   \n",
       "3465  3318.973044         NaN  1972.0           NaN      NaN  47.5089   \n",
       "3466  3318.973044         NaN  1972.0           NaN      NaN  48.4633   \n",
       "\n",
       "           lon  Duration  Volume_Mm3  DamHeight_m  StorageCapacity_MWh  \\\n",
       "id                                                                       \n",
       "224   21.46670       NaN         0.0          0.0                  0.0   \n",
       "3465  34.62530       NaN         0.0          0.0                  0.0   \n",
       "3466  38.20328       NaN         0.0          0.0                  0.0   \n",
       "\n",
       "                                           EIC  \\\n",
       "id                                               \n",
       "224   {'19W000000000104I', '19W000000000095U'}   \n",
       "3465       {nan, nan, nan, nan, nan, nan, nan}   \n",
       "3466       {nan, nan, nan, nan, nan, nan, nan}   \n",
       "\n",
       "                                              projectID  \n",
       "id                                                       \n",
       "224   {'BEYONDCOAL': {'BEYOND-PL-96'}, 'ENTSOE': {'1...  \n",
       "3465      {'GEO': {'GEO-42988'}, 'GPD': {'WRI1005101'}}  \n",
       "3466      {'GEO': {'GEO-43001'}, 'GPD': {'WRI1005107'}}  "
      ]
     },
     "execution_count": 107,
     "metadata": {},
     "output_type": "execute_result"
    }
   ],
   "source": [
    "coal.loc[coal.Capacity.nlargest(3).index]"
   ]
  },
  {
   "cell_type": "markdown",
   "metadata": {},
   "source": [
    "**Task 4:** What is the average \"DateIn\" of each \"Fueltype\"? Which type of power plants is the oldest on average?"
   ]
  },
  {
   "cell_type": "code",
   "execution_count": 109,
   "metadata": {
    "tags": [
     "hide-cell"
    ]
   },
   "outputs": [
    {
     "data": {
      "text/plain": [
       "Fueltype\n",
       "Hard Coal        51.918429\n",
       "Hydro            50.261558\n",
       "Lignite          48.388489\n",
       "Nuclear          48.214953\n",
       "Oil              37.344828\n",
       "Other            28.068966\n",
       "Natural Gas      27.583721\n",
       "Waste            27.078947\n",
       "Geothermal       23.857143\n",
       "Solid Biomass    23.662651\n",
       "Biogas           22.121951\n",
       "Wind             14.783743\n",
       "Solar             8.259289\n",
       "Name: DateIn, dtype: float64"
      ]
     },
     "execution_count": 109,
     "metadata": {},
     "output_type": "execute_result"
    }
   ],
   "source": [
    "2024 - df.groupby(\"Fueltype\").DateIn.mean().sort_values()"
   ]
  },
  {
   "cell_type": "markdown",
   "metadata": {},
   "source": [
    "**Task 5:** In the time series provided, calculate the annual average capacity factors of wind and solar."
   ]
  },
  {
   "cell_type": "code",
   "execution_count": 111,
   "metadata": {},
   "outputs": [
    {
     "data": {
      "text/plain": [
       "load       54.736992\n",
       "onwind      0.205556\n",
       "offwind     0.362993\n",
       "solar       0.122621\n",
       "prices     31.835717\n",
       "dtype: float64"
      ]
     },
     "execution_count": 111,
     "metadata": {},
     "output_type": "execute_result"
    }
   ],
   "source": [
    "ts.mean()"
   ]
  },
  {
   "cell_type": "markdown",
   "metadata": {},
   "source": [
    "**Task 6:** In the time series provided, calculate and plot the monthly average electricity price."
   ]
  },
  {
   "cell_type": "code",
   "execution_count": 114,
   "metadata": {},
   "outputs": [
    {
     "data": {
      "text/plain": [
       "<Axes: >"
      ]
     },
     "execution_count": 114,
     "metadata": {},
     "output_type": "execute_result"
    },
    {
     "data": {
      "image/png": "[encoded data removed]",
      "text/plain": [
       "<Figure size 640x480 with 1 Axes>"
      ]
     },
     "metadata": {},
     "output_type": "display_data"
    }
   ],
   "source": [
    "ts[\"prices\"].resample(\"ME\").mean().plot()"
   ]
  }
 ],
 "metadata": {
  "kernelspec": {
   "display_name": "highs-workshop",
   "language": "python",
   "name": "python3"
  },
  "language_info": {
   "codemirror_mode": {
    "name": "ipython",
    "version": 3
   },
   "file_extension": ".py",
   "mimetype": "text/x-python",
   "name": "python",
   "nbconvert_exporter": "python",
   "pygments_lexer": "ipython3",
   "version": "3.11.9"
  }
 },
 "nbformat": 4,
 "nbformat_minor": 4
}
