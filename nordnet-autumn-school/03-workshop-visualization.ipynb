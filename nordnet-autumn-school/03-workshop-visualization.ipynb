{
 "cells": [
  {
   "cell_type": "markdown",
   "metadata": {},
   "source": [
    "# Using `plotly` and `streamlit` for interactive visualization"
   ]
  },
  {
   "cell_type": "markdown",
   "metadata": {},
   "source": [
    ":::{note}\n",
    "If you have not yet set up Python on your computer, you can execute this tutorial in your browser via [Google Colab](https://colab.research.google.com/). Click on the rocket in the top right corner and launch \"Colab\". If that doesn't work download the `.ipynb` file and import it in [Google Colab](https://colab.research.google.com/).\n",
    "\n",
    "Then install the following packages by executing the following command in a Jupyter cell at the top of the notebook.\n",
    "\n",
    "```sh\n",
    "!pip install -q pandas plotly streamlit\n",
    "```\n",
    ":::"
   ]
  },
  {
   "cell_type": "markdown",
   "metadata": {},
   "source": [
    "There are many Python-based interactive plotting and dashboarding libraries out there. Here, we use [plotly.express](https://plotly.com/python/plotly-express/), which is a high-level API for [plotly](https://plotly.com) plots in combination with the dashboarding package [`streamlit`](https://docs.streamlit.io/)."
   ]
  },
  {
   "cell_type": "markdown",
   "metadata": {},
   "source": [
    "In this tutorial, we will build a small dashboard to interactively explore power plants in 50 lines of code.\n",
    "\n",
    "You can see a live demo of the final product here: https://ppm-dash.streamlit.app/"
   ]
  },
  {
   "cell_type": "markdown",
   "metadata": {},
   "source": [
    "## Package Imports"
   ]
  },
  {
   "cell_type": "code",
   "execution_count": null,
   "metadata": {},
   "outputs": [],
   "source": [
    "import pandas as pd\n",
    "import plotly.express as px\n",
    "import plotly.io as pio\n",
    "import plotly.offline as py"
   ]
  },
  {
   "cell_type": "markdown",
   "metadata": {},
   "source": [
    ":::{note}\n",
    "We need to import `plotly.io` and `plotly.offline`, so that the interactive plots are also visible on the course's static website.\n",
    ":::"
   ]
  },
  {
   "cell_type": "markdown",
   "metadata": {},
   "source": [
    "Let's reload again our example dataset of conventional power plants in Europe as a `pd.DataFrame`, which also contains coordinates (latitude and longitude)."
   ]
  },
  {
   "cell_type": "code",
   "execution_count": null,
   "metadata": {},
   "outputs": [],
   "source": [
    "fn = \"https://raw.githubusercontent.com/PyPSA/powerplantmatching/master/powerplants.csv\"\n",
    "ppl = pd.read_csv(fn, index_col=0)"
   ]
  },
  {
   "cell_type": "markdown",
   "metadata": {},
   "source": [
    "Hard coal power plants in Europe:"
   ]
  },
  {
   "cell_type": "code",
   "execution_count": null,
   "metadata": {},
   "outputs": [],
   "source": [
    "df = ppl.query(\"Fueltype == 'Hard Coal'\")"
   ]
  },
  {
   "cell_type": "code",
   "execution_count": null,
   "metadata": {},
   "outputs": [],
   "source": [
    "px.scatter_mapbox(\n",
    "    df,\n",
    "    lat=\"lat\",\n",
    "    lon=\"lon\",\n",
    "    mapbox_style=\"carto-positron\",\n",
    "    color=\"DateIn\",\n",
    "    size=\"Capacity\",\n",
    "    zoom=2,\n",
    "    height=600,\n",
    ")"
   ]
  },
  {
   "cell_type": "markdown",
   "metadata": {},
   "source": [
    "Since `streamlit` does not work so well in Jupyter Notebooks, we will now switch to [another repository on Github](https://github.com/fneum/streamlit-tutorial) to embed this interactive figure in a dashboard."
   ]
  },
  {
   "cell_type": "markdown",
   "metadata": {},
   "source": [
    "## Exercises"
   ]
  },
  {
   "cell_type": "markdown",
   "metadata": {},
   "source": [
    "**Task 1:** Get the dashboard to run on your own laptop, but rather than showing power plant data, choose another dataset from [Global Energy Monitor](https://globalenergymonitor.org/) (e.g. LNG terminals or steel plants).\n",
    "\n",
    ":::{note}\n",
    "You can directly download the other Global Energy Monitor files from https://tubcloud.tu-berlin.de/s/RG8Xbye3nMJB2Rp.\n",
    "\n",
    "Excel files can be read with `pandas` using `pd.read_excel()`:\n",
    "\n",
    "```py\n",
    "url = \"https://tubcloud.tu-berlin.de/s/RG8Xbye3nMJB2Rp/download/Europe-Gas-Tracker-2024-05.xlsx\"\n",
    "lng = pd.read_excel(url, sheet_name='LNG terminals - data')\n",
    "```\n",
    ":::"
   ]
  },
  {
   "cell_type": "markdown",
   "metadata": {},
   "source": [
    ":::{note}\n",
    "In principle, it is also possible to run `streamlit` from Google Colab, but it requires a few \"tricks\" and it might not be super fast.\n",
    "\n",
    "**First,** you need to install and start up a tunnelling service like Cloudfare:\n",
    "```py\n",
    "!wget https://github.com/cloudflare/cloudflared/releases/latest/download/cloudflared-linux-amd64\n",
    "!chmod +x cloudflared-linux-amd64\n",
    "!nohup /content/cloudflared-linux-amd64 tunnel --url http://localhost:8501 &\n",
    "```\n",
    "\n",
    "**Second,** write your code for the `streamlit` application in a single cell with the header:\n",
    "```py\n",
    "%%writefile app.py\n",
    "``` \n",
    "\n",
    "**Third,** start the application:\n",
    "```py\n",
    "!streamlit run /content/app.py &>/content/logs.txt &\n",
    "!grep -o 'https://.*\\.trycloudflare.com' nohup.out | head -n 1 | xargs -I {} echo \"Your tunnel url {}\"\n",
    ":::"
   ]
  },
  {
   "cell_type": "markdown",
   "metadata": {},
   "source": []
  },
  {
   "cell_type": "markdown",
   "metadata": {},
   "source": []
  }
 ],
 "metadata": {
  "kernelspec": {
   "display_name": "",
   "language": "python",
   "name": ""
  },
  "language_info": {
   "codemirror_mode": {
    "name": "ipython",
    "version": 3
   },
   "file_extension": ".py",
   "mimetype": "text/x-python",
   "name": "python",
   "nbconvert_exporter": "python",
   "pygments_lexer": "ipython3",
   "version": "3.12.0"
  }
 },
 "nbformat": 4,
 "nbformat_minor": 4
}
