{
 "cells": [
  {
   "cell_type": "markdown",
   "metadata": {},
   "source": [
    "# Dispatch problems with `pypsa`"
   ]
  },
  {
   "cell_type": "markdown",
   "metadata": {},
   "source": [
    ":::{note}\n",
    "If you have not yet set up Python on your computer, you can execute this tutorial in your browser via [Google Colab](https://colab.research.google.com/). Click on the rocket in the top right corner and launch \"Colab\". If that doesn't work download the `.ipynb` file and import it in [Google Colab](https://colab.research.google.com/).\n",
    "\n",
    "Then install the following packages by executing the following command in a Jupyter cell at the top of the notebook.\n",
    "\n",
    "```sh\n",
    "!pip install pypsa highspy\n",
    "```\n",
    ":::"
   ]
  },
  {
   "cell_type": "markdown",
   "metadata": {},
   "source": [
    "PyPSA stands for **Python for Power System Analysis**.\n",
    "\n",
    "PyPSA is an open source Python package for simulating and optimising modern energy systems that include features such as\n",
    "\n",
    "- conventional generators with unit commitment (ramp-up, ramp-down, start-up, shut-down),\n",
    "- time-varying wind and solar generation,\n",
    "- energy storage with efficiency losses and inflow/spillage for hydroelectricity\n",
    "- coupling to other energy sectors (electricity, transport, heat, industry),\n",
    "- conversion between energy carriers (e.g. electricity to hydrogen),\n",
    "- transmission networks (AC, DC, other fuels)\n",
    "\n",
    "PyPSA can be used for a variety of problem types (e.g. electricity market modelling, long-term investment planning, transmission network expansion planning), and is designed to scale well with large networks and long time series.\n",
    "\n",
    "Compared to building power system by hand in `linopy`, PyPSA does the following things for you:\n",
    "\n",
    "- manage data inputs\n",
    "- build optimisation problem\n",
    "- communicate with the solver\n",
    "- retrieve and process optimisation results\n",
    "- manage data outputs\n",
    "\n",
    "### Dependencies\n",
    "\n",
    "- `pandas` for storing data about network components and time series\n",
    "- `numpy` and `scipy` for linear algebra and sparse matrix calculations\n",
    "- `matplotlib` and `cartopy` for plotting on a map\n",
    "- `networkx` for network calculations\n",
    "- `linopy` for handling optimisation problems"
   ]
  },
  {
   "cell_type": "markdown",
   "metadata": {},
   "source": [
    ":::{note}\n",
    "Documentation for this package is available at https://pypsa.readthedocs.io.\n",
    ":::"
   ]
  },
  {
   "cell_type": "markdown",
   "metadata": {},
   "source": [
    "## Basic Structure"
   ]
  },
  {
   "cell_type": "markdown",
   "metadata": {},
   "source": [
    "| Component | Description |\n",
    "| --- | --- |\n",
    "| [Network](https://pypsa.readthedocs.io/en/latest/components.html#network) | Container for all components. |\n",
    "| [Bus](https://pypsa.readthedocs.io/en/latest/components.html#bus) | Node where components attach. |\n",
    "| [Carrier](https://pypsa.readthedocs.io/en/latest/components.html#carrier) | Energy carrier or technology (e.g. electricity, hydrogen, gas, coal, oil, biomass, on-/offshore wind, solar). Can track properties such as specific carbon dioxide emissions or nice names and colors for plots. |\n",
    "| [Load](https://pypsa.readthedocs.io/en/latest/components.html#load) | Energy consumer (e.g. electricity demand). |\n",
    "| [Generator](https://pypsa.readthedocs.io/en/latest/components.html#generator) | Generator (e.g. power plant, wind turbine, PV panel). |\n",
    "| [Line](https://pypsa.readthedocs.io/en/latest/components.html#line) | Power distribution and transmission lines (overhead and cables). |\n",
    "| [Link](https://pypsa.readthedocs.io/en/latest/components.html#link) | Links connect two buses with controllable energy flow, direction-control and losses. They can be used to model: <ul><li>HVDC links</li><li>HVAC lines (neglecting KVL, only net transfer capacities (NTCs))</li><li>conversion between carriers (e.g. electricity to hydrogen in electrolysis)</li></ul> |\n",
    "| [StorageUnit](https://pypsa.readthedocs.io/en/latest/components.html#storage-unit) | Storage with fixed nominal energy-to-power ratio. |\n",
    "| [GlobalConstraint](https://pypsa.readthedocs.io/en/latest/components.html#global-constraints) | Constraints affecting many components at once, such as emission limits. |\n",
    "| [Store](https://pypsa.readthedocs.io/en/latest/components.html#store) | Storage with separately extendable energy capacity. |\n",
    "|  | **not used in this course** | \n",
    "| [LineType](https://pypsa.readthedocs.io/en/latest/components.html#line-types) | Standard line types. |\n",
    "| [Transformer](https://pypsa.readthedocs.io/en/latest/components.html#transformer) | 2-winding transformer. |\n",
    "| [TransformerType](https://pypsa.readthedocs.io/en/latest/components.html#transformer-types) | Standard types of 2-winding transformer. |\n",
    "| [ShuntImpedance](https://pypsa.readthedocs.io/en/latest/components.html#shunt-impedance) | Shunt. |\n",
    "\n",
    "\n",
    ":::{note}\n",
    "Links in the table lead to documentation for each component.\n",
    ":::\n",
    "\n",
    "<img src=\"https://pypsa.readthedocs.io/en/latest/_images/buses.png\" width=\"500px\" />\n"
   ]
  },
  {
   "cell_type": "markdown",
   "metadata": {},
   "source": [
    ":::{warning}\n",
    "Per unit values of voltage and impedance are used internally for network calculations. It is assumed internally that the base power is **1 MW**.\n",
    ":::\n",
    "\n",
    "## From structured data to optimisation\n",
    "\n",
    "The design principle of PyPSA is that basically each component is associated with a set of variables and constraints that will be added to the optimisation model based on the input data stored for the components. \n",
    "\n",
    "For an *hourly* electricity market simulation, PyPSA will solve an optimisation problem that looks like this\n",
    "\n",
    "\\begin{equation}\n",
    "\\min_{g_{i,s,t}; f_{\\ell,t}; g_{i,r,t,\\text{charge}}; g_{i,r,t,\\text{discharge}}; e_{i,r,t}} \\sum_s o_{s} g_{i,s,t}\n",
    "\\end{equation}\n",
    "such that\n",
    "\\begin{align}\n",
    "0 & \\leq g_{i,s,t} \\leq \\hat{g}_{i,s,t} G_{i,s}  & \\text{generation limits : generator} \\\\\n",
    "-F_\\ell &\\leq f_{\\ell,t} \\leq F_\\ell & \\text{transmission limits : line}  \\\\\n",
    "d_{i,t} &= \\sum_s g_{i,s,t} + \\sum_r g_{i,r,t,\\text{discharge}} - \\sum_r g_{i,r,t,\\text{charge}} - \\sum_\\ell K_{i\\ell} f_{\\ell,t} & \\text{KCL : bus} \\\\\n",
    " 0 &=\\sum_\\ell C_{\\ell c} x_\\ell f_{\\ell,t} & \\text{KVL : cycles} \\\\\n",
    "0 & \\leq g_{i,r,t,\\text{discharge}} \\leq G_{i,r,\\text{discharge}}& \\text{discharge limits : storage unit} \\\\\n",
    "    0 & \\leq g_{i,r,t,\\text{charge}} \\leq G_{i,r,\\text{charge}} & \\text{charge limits : storage unit} \\\\\n",
    "    0 & \\leq e_{i,r,t} \\leq E_{i,r} & \\text{energy limits : storage unit} \\\\ \n",
    "    e_{i,r,t} &= \\eta^0_{i,r,t} e_{i,r,t-1} + \\eta^1_{i,r,t}g_{i,r,t,\\text{charge}} -  \\frac{1}{\\eta^2_{i,r,t}} g_{i,r,t,\\text{discharge}} & \\text{consistency : storage unit} \\\\\n",
    "    e_{i,r,0} & = e_{i,r,|T|-1}  & \\text{cyclicity : storage unit}\n",
    "\\end{align}\n",
    "\n",
    "**Decision variables:**\n",
    "\n",
    "- $g_{i,s,t}$ is the generator dispatch at bus $i$, technology $s$, time step $t$,\n",
    "- $f_{\\ell,t}$ is the power flow in line $\\ell$,\n",
    "- $g_{i,r,t,\\text{dis-/charge}}$ denotes the charge and discharge of storage unit $r$ at bus $i$ and time step $t$,\n",
    "- $e_{i,r,t}$ is the state of charge of storage $r$ at bus $i$ and time step $t$.\n",
    "\n",
    "**Parameters:**\n",
    "\n",
    "- $o_{i,s}$ is the marginal generation cost of technology $s$ at bus $i$,\n",
    "- $x_\\ell$ is the reactance of transmission line $\\ell$,\n",
    "- $K_{i\\ell}$ is the incidence matrix,\n",
    "- $C_{\\ell c}$ is the cycle matrix,\n",
    "- $G_{i,s}$ is the nominal capacity of the generator of technology $s$ at bus $i$,\n",
    "- $F_{\\ell}$ is the rating of the transmission line $\\ell$,\n",
    "- $E_{i,r}$ is the energy capacity of storage $r$ at bus $i$,\n",
    "- $\\eta^{0/1/2}_{i,r,t}$ denote the standing (0), charging (1), and discharging (2) efficiencies.\n",
    "\n",
    ":::{note}\n",
    "For a full reference to the optimisation problem description, see https://pypsa.readthedocs.io/en/latest/optimal_power_flow.html\n",
    ":::"
   ]
  },
  {
   "cell_type": "markdown",
   "metadata": {},
   "source": [
    "## Simple electricity market example"
   ]
  },
  {
   "cell_type": "markdown",
   "metadata": {},
   "source": [
    "Let's get acquainted with PyPSA by building simple electricity market models.\n",
    "\n",
    "We have the following data:\n",
    "\n",
    "- fuel costs in € / MWh$_{th}$ "
   ]
  },
  {
   "cell_type": "code",
   "execution_count": null,
   "metadata": {
    "tags": []
   },
   "outputs": [],
   "source": [
    "fuel_cost = dict(\n",
    "    coal=8,\n",
    "    gas=100,\n",
    "    oil=48,\n",
    "    hydro=1,\n",
    "    wind=0,\n",
    ")"
   ]
  },
  {
   "cell_type": "markdown",
   "metadata": {},
   "source": [
    "- efficiencies of thermal power plants in MWh$_{el}$ / MWh$_{th}$"
   ]
  },
  {
   "cell_type": "code",
   "execution_count": null,
   "metadata": {
    "tags": []
   },
   "outputs": [],
   "source": [
    "efficiency = dict(\n",
    "    coal=0.33,\n",
    "    gas=0.58,\n",
    "    oil=0.35,\n",
    "    hydro=1,\n",
    "    wind=1,\n",
    ")"
   ]
  },
  {
   "cell_type": "markdown",
   "metadata": {},
   "source": [
    "- specific emissions in t$_{CO_2}$ / MWh$_{th}$"
   ]
  },
  {
   "cell_type": "code",
   "execution_count": null,
   "metadata": {
    "tags": []
   },
   "outputs": [],
   "source": [
    "# t/MWh thermal\n",
    "emissions = dict(\n",
    "    coal=0.34,\n",
    "    gas=0.2,\n",
    "    oil=0.26,\n",
    "    hydro=0,\n",
    "    wind=0,\n",
    ")"
   ]
  },
  {
   "cell_type": "markdown",
   "metadata": {},
   "source": [
    "- power plant capacities in MW"
   ]
  },
  {
   "cell_type": "code",
   "execution_count": null,
   "metadata": {
    "tags": []
   },
   "outputs": [],
   "source": [
    "power_plants = {\n",
    "    \"A\": {\"coal\": 35000, \"wind\": 3000, \"gas\": 8000, \"oil\": 2000},\n",
    "    \"B\": {\"hydro\": 1200},\n",
    "}"
   ]
  },
  {
   "cell_type": "markdown",
   "metadata": {},
   "source": [
    "- perfectly inelastic electrical load in MW"
   ]
  },
  {
   "cell_type": "code",
   "execution_count": null,
   "metadata": {
    "tags": []
   },
   "outputs": [],
   "source": [
    "loads = {\n",
    "    \"A\": 42000,\n",
    "    \"B\": 650,\n",
    "}"
   ]
  },
  {
   "cell_type": "markdown",
   "metadata": {},
   "source": [
    "## Building a basic network"
   ]
  },
  {
   "cell_type": "markdown",
   "metadata": {},
   "source": [
    "By convention, PyPSA is imported without an alias:"
   ]
  },
  {
   "cell_type": "code",
   "execution_count": null,
   "metadata": {
    "tags": []
   },
   "outputs": [],
   "source": [
    "import pypsa"
   ]
  },
  {
   "cell_type": "markdown",
   "metadata": {},
   "source": [
    "First, we create a new network object which serves as the overall container for all components."
   ]
  },
  {
   "cell_type": "code",
   "execution_count": null,
   "metadata": {
    "tags": []
   },
   "outputs": [],
   "source": [
    "n = pypsa.Network()"
   ]
  },
  {
   "cell_type": "markdown",
   "metadata": {},
   "source": [
    "The second component we need are buses. **Buses** are the fundamental nodes of the network, to which all other components like loads, generators and transmission lines attach. They enforce energy conservation for all elements feeding in and out of it (i.e. Kirchhoff’s Current Law).\n",
    "\n",
    "Components can be added to the network `n` using the `n.add()` function. It takes the component name as a first argument, the name of the component as a second argument and possibly further parameters as keyword arguments. Let's use this function, to add buses for each country to our network:"
   ]
  },
  {
   "cell_type": "code",
   "execution_count": null,
   "metadata": {
    "tags": []
   },
   "outputs": [],
   "source": [
    "n.add(\"Bus\", \"A\", v_nom=400, carrier=\"AC\")\n",
    "n.add(\"Bus\", \"B\", v_nom=400, carrier=\"AC\")"
   ]
  },
  {
   "cell_type": "markdown",
   "metadata": {},
   "source": [
    "For each class of components, the data describing the components is stored in a `pandas.DataFrame`. For example, all static data for buses is stored in `n.buses`"
   ]
  },
  {
   "cell_type": "code",
   "execution_count": null,
   "metadata": {
    "tags": []
   },
   "outputs": [],
   "source": [
    "n.buses"
   ]
  },
  {
   "cell_type": "markdown",
   "metadata": {},
   "source": [
    "You see there are many more attributes than we specified while adding the buses; many of them are filled with default parameters which were added. You can look up the field description, defaults and status (required input, optional input, output) for buses here https://pypsa.readthedocs.io/en/latest/components.html#bus, and analogous for all other components. "
   ]
  },
  {
   "cell_type": "markdown",
   "metadata": {},
   "source": [
    "The method `n.add()` also allows you to add multiple components at once. For instance, multiple **carriers** for the fuels with information on specific carbon dioxide emissions, a nice name, and colors for plotting. For this, the function takes the component name as the first argument and then a list of component names and then optional arguments for the parameters. Here, scalar values, lists, dictionary or `pandas.Series` are allowed. The latter two needs keys or indices with the component names."
   ]
  },
  {
   "cell_type": "code",
   "execution_count": null,
   "metadata": {
    "tags": []
   },
   "outputs": [],
   "source": [
    "n.add(\n",
    "    \"Carrier\",\n",
    "    [\"coal\", \"gas\", \"oil\", \"hydro\", \"wind\"],\n",
    "    co2_emissions=emissions,\n",
    "    nice_name=[\"Coal\", \"Gas\", \"Oil\", \"Hydro\", \"Onshore Wind\"],\n",
    "    color=[\"grey\", \"indianred\", \"black\", \"aquamarine\", \"dodgerblue\"],\n",
    ")"
   ]
  },
  {
   "cell_type": "markdown",
   "metadata": {},
   "source": [
    "The `n.add()` function is very general. It lets you add any component to the network object `n`. For instance, in the next step we add **generators** for all the different power plants."
   ]
  },
  {
   "cell_type": "markdown",
   "metadata": {},
   "source": [
    "In Region B:"
   ]
  },
  {
   "cell_type": "code",
   "execution_count": null,
   "metadata": {
    "tags": []
   },
   "outputs": [],
   "source": [
    "n.add(\n",
    "    \"Generator\",\n",
    "    \"B hydro\",\n",
    "    bus=\"B\",\n",
    "    carrier=\"hydro\",\n",
    "    p_nom=1200,  # MW\n",
    ")"
   ]
  },
  {
   "cell_type": "markdown",
   "metadata": {},
   "source": [
    "In Region A (in a loop):"
   ]
  },
  {
   "cell_type": "code",
   "execution_count": null,
   "metadata": {
    "tags": []
   },
   "outputs": [],
   "source": [
    "for tech, p_nom in power_plants[\"A\"].items():\n",
    "    n.add(\n",
    "        \"Generator\",\n",
    "        f\"A {tech}\",\n",
    "        bus=\"A\",\n",
    "        carrier=tech,\n",
    "        efficiency=efficiency.get(tech, 1),\n",
    "        p_nom=p_nom,\n",
    "        marginal_cost=fuel_cost.get(tech, 0) / efficiency.get(tech, 1),\n",
    "    )"
   ]
  },
  {
   "cell_type": "markdown",
   "metadata": {},
   "source": [
    "As a result, the `n.generators` DataFrame looks like this:"
   ]
  },
  {
   "cell_type": "code",
   "execution_count": null,
   "metadata": {
    "tags": []
   },
   "outputs": [],
   "source": [
    "n.generators"
   ]
  },
  {
   "cell_type": "markdown",
   "metadata": {},
   "source": [
    "Next, we're going to add the electricity demand.\n",
    "\n",
    "A positive value for `p_set` means consumption of power from the bus."
   ]
  },
  {
   "cell_type": "code",
   "execution_count": null,
   "metadata": {
    "tags": []
   },
   "outputs": [],
   "source": [
    "n.add(\n",
    "    \"Load\",\n",
    "    \"A electricity demand\",\n",
    "    bus=\"A\",\n",
    "    p_set=loads[\"A\"],\n",
    ")"
   ]
  },
  {
   "cell_type": "code",
   "execution_count": null,
   "metadata": {
    "tags": []
   },
   "outputs": [],
   "source": [
    "n.add(\n",
    "    \"Load\",\n",
    "    \"B electricity demand\",\n",
    "    bus=\"B\",\n",
    "    p_set=loads[\"B\"],\n",
    ")"
   ]
  },
  {
   "cell_type": "code",
   "execution_count": null,
   "metadata": {
    "tags": []
   },
   "outputs": [],
   "source": [
    "n.loads"
   ]
  },
  {
   "cell_type": "markdown",
   "metadata": {},
   "source": [
    "Finally, we add the connection between Region B and Region A with a 500 MW line:"
   ]
  },
  {
   "cell_type": "code",
   "execution_count": null,
   "metadata": {
    "tags": []
   },
   "outputs": [],
   "source": [
    "n.add(\n",
    "    \"Line\",\n",
    "    \"A-B\",\n",
    "    bus0=\"A\",\n",
    "    bus1=\"B\",\n",
    "    s_nom=500,\n",
    "    x=1,\n",
    "    r=1,\n",
    ")"
   ]
  },
  {
   "cell_type": "code",
   "execution_count": null,
   "metadata": {
    "tags": []
   },
   "outputs": [],
   "source": [
    "n.lines"
   ]
  },
  {
   "cell_type": "markdown",
   "metadata": {},
   "source": [
    "## Optimisation"
   ]
  },
  {
   "cell_type": "markdown",
   "metadata": {},
   "source": [
    "With all input data transferred into PyPSA's data structure, we can now build and run the resulting optimisation problem. In PyPSA, building, solving and retrieving results from the optimisation model is contained in a single function call `n.optimize()`. This function optimizes dispatch and investment decisions for least cost.\n",
    "\n",
    "The `n.optimize()` function can take a variety of arguments. The most relevant for the moment is the choice of the solver (e.g. \"highs\" and \"gurobi\"). They need to be installed on your computer, to use them here!"
   ]
  },
  {
   "cell_type": "code",
   "execution_count": null,
   "metadata": {
    "tags": [
     "hide-output"
    ]
   },
   "outputs": [],
   "source": [
    "n.optimize(solver_name=\"highs\")"
   ]
  },
  {
   "cell_type": "markdown",
   "metadata": {},
   "source": [
    "Let's have a look at the results.\n",
    "\n",
    "Since the power flow and dispatch are generally time-varying quantities, these are stored in a different location than e.g. `n.generators`. They are stored in `n.generators_t`. Thus, to find out the dispatch of the generators, run"
   ]
  },
  {
   "cell_type": "code",
   "execution_count": null,
   "metadata": {},
   "outputs": [],
   "source": [
    "n.generators_t.p"
   ]
  },
  {
   "cell_type": "markdown",
   "metadata": {},
   "source": [
    "or if you prefer it in relation to the generators nominal capacity"
   ]
  },
  {
   "cell_type": "code",
   "execution_count": null,
   "metadata": {},
   "outputs": [],
   "source": [
    "n.generators_t.p / n.generators.p_nom"
   ]
  },
  {
   "cell_type": "markdown",
   "metadata": {},
   "source": [
    "You see that the time index has the value 'now'. This is the default index when no time series data has been specified and the network only covers a single state (e.g. a particular hour). \n",
    "\n",
    "Similarly you will find the power flow in transmission lines at"
   ]
  },
  {
   "cell_type": "code",
   "execution_count": null,
   "metadata": {},
   "outputs": [],
   "source": [
    "n.lines_t.p0"
   ]
  },
  {
   "cell_type": "code",
   "execution_count": null,
   "metadata": {},
   "outputs": [],
   "source": [
    "n.lines_t.p1"
   ]
  },
  {
   "cell_type": "markdown",
   "metadata": {},
   "source": [
    "The `p0` will tell you the flow from `bus0` to `bus1`. `p1` will tell you the flow from `bus1` to `bus0`."
   ]
  },
  {
   "cell_type": "markdown",
   "metadata": {},
   "source": [
    "What about the _market clearing prices_ in the electricity market?"
   ]
  },
  {
   "cell_type": "code",
   "execution_count": null,
   "metadata": {},
   "outputs": [],
   "source": [
    "n.buses_t.marginal_price"
   ]
  },
  {
   "cell_type": "markdown",
   "metadata": {
    "tags": []
   },
   "source": [
    "## Modifying networks"
   ]
  },
  {
   "cell_type": "markdown",
   "metadata": {},
   "source": [
    "Modifying data of components in an existing PyPSA network is as easy as modifying the entries of a `pandas.DataFrame`. For instance, if we want to reduce the cross-border transmission capacity between Region A and Region B, we'd run:"
   ]
  },
  {
   "cell_type": "code",
   "execution_count": null,
   "metadata": {},
   "outputs": [],
   "source": [
    "n.lines.loc[\"A-B\", \"s_nom\"] = 400"
   ]
  },
  {
   "cell_type": "code",
   "execution_count": null,
   "metadata": {},
   "outputs": [],
   "source": [
    "n.lines"
   ]
  },
  {
   "cell_type": "code",
   "execution_count": null,
   "metadata": {
    "tags": [
     "hide-output"
    ]
   },
   "outputs": [],
   "source": [
    "n.optimize(solver_name=\"highs\")"
   ]
  },
  {
   "cell_type": "markdown",
   "metadata": {},
   "source": [
    "You can see that the production of the hydro power plant was reduced and that of the gas power plant increased owing to the reduced transmission capacity."
   ]
  },
  {
   "cell_type": "code",
   "execution_count": null,
   "metadata": {},
   "outputs": [],
   "source": [
    "n.generators_t.p"
   ]
  },
  {
   "cell_type": "markdown",
   "metadata": {},
   "source": [
    "## Global constraints for emission limits"
   ]
  },
  {
   "cell_type": "markdown",
   "metadata": {},
   "source": [
    "In the example above, we happen to have some spare gas capacity with lower carbon intensity than the coal and oil generators. We could use this to lower the emissions of the system, but it will be more expensive. We can implement the limit of carbon dioxide emissions as a constraint."
   ]
  },
  {
   "cell_type": "markdown",
   "metadata": {},
   "source": [
    "This is achieved in PyPSA through **Global Constraints** which add constraints that apply to many components at once.\n",
    "\n",
    "But first, we need to calculate the current level of emissions to set a sensible limit."
   ]
  },
  {
   "cell_type": "markdown",
   "metadata": {},
   "source": [
    "We can compute the emissions per generator (in tonnes of CO$_2$) in the following way.\n",
    "\n",
    "$$\\frac{g_{i,s,t} \\cdot \\rho_{i,s}}{\\eta_{i,s}}$$\n",
    "\n",
    "where $ \\rho$ is the specific emissions (tonnes/MWh thermal) and $\\eta$ is the conversion efficiency (MWh electric / MWh thermal) of the generator with dispatch $g$ (MWh electric):"
   ]
  },
  {
   "cell_type": "code",
   "execution_count": null,
   "metadata": {},
   "outputs": [],
   "source": [
    "e = (\n",
    "    n.generators_t.p\n",
    "    / n.generators.efficiency\n",
    "    * n.generators.carrier.map(n.carriers.co2_emissions)\n",
    ")\n",
    "e"
   ]
  },
  {
   "cell_type": "markdown",
   "metadata": {},
   "source": [
    "Summed up, we get total emissions in tonnes:"
   ]
  },
  {
   "cell_type": "code",
   "execution_count": null,
   "metadata": {},
   "outputs": [],
   "source": [
    "e.sum().sum()"
   ]
  },
  {
   "cell_type": "markdown",
   "metadata": {},
   "source": [
    "So, let's say we want to reduce emissions by 10%:"
   ]
  },
  {
   "cell_type": "code",
   "execution_count": null,
   "metadata": {},
   "outputs": [],
   "source": [
    "n.add(\n",
    "    \"GlobalConstraint\",\n",
    "    \"emission_limit\",\n",
    "    carrier_attribute=\"co2_emissions\",\n",
    "    sense=\"<=\",\n",
    "    constant=e.sum().sum() * 0.9,\n",
    ")"
   ]
  },
  {
   "cell_type": "code",
   "execution_count": null,
   "metadata": {
    "tags": [
     "hide-output"
    ]
   },
   "outputs": [],
   "source": [
    "n.optimize(solver_name=\"highs\")"
   ]
  },
  {
   "cell_type": "code",
   "execution_count": null,
   "metadata": {},
   "outputs": [],
   "source": [
    "n.generators_t.p"
   ]
  },
  {
   "cell_type": "code",
   "execution_count": null,
   "metadata": {},
   "outputs": [],
   "source": [
    "n.generators_t.p / n.generators.p_nom"
   ]
  },
  {
   "cell_type": "code",
   "execution_count": null,
   "metadata": {},
   "outputs": [],
   "source": [
    "n.global_constraints.mu"
   ]
  },
  {
   "cell_type": "markdown",
   "metadata": {},
   "source": [
    "Can we lower emissions even further? Say by another 5% points?"
   ]
  },
  {
   "cell_type": "code",
   "execution_count": null,
   "metadata": {},
   "outputs": [],
   "source": [
    "n.global_constraints.loc[\"emission_limit\", \"constant\"] = 0.85 * e.sum().sum()"
   ]
  },
  {
   "cell_type": "code",
   "execution_count": null,
   "metadata": {
    "tags": [
     "hide-output"
    ]
   },
   "outputs": [],
   "source": [
    "n.optimize(solver_name=\"highs\")"
   ]
  },
  {
   "cell_type": "markdown",
   "metadata": {},
   "source": [
    "No! Without any additional capacities, we have exhausted our options to reduce CO2 in that hour. The optimiser tells us that the problem is *infeasible*."
   ]
  },
  {
   "cell_type": "markdown",
   "metadata": {},
   "source": [
    "## Exercises"
   ]
  },
  {
   "cell_type": "markdown",
   "metadata": {},
   "source": [
    "For the exercises, let's first remove the emission limit again:"
   ]
  },
  {
   "cell_type": "code",
   "execution_count": null,
   "metadata": {},
   "outputs": [],
   "source": [
    "n.remove(\"GlobalConstraint\", \"emission_limit\")"
   ]
  },
  {
   "cell_type": "markdown",
   "metadata": {},
   "source": [
    "**Task 1:** Model an outage of the transmission line by setting it's capacity to zero. How does the model compensate for the lack of transmission? "
   ]
  },
  {
   "cell_type": "code",
   "execution_count": null,
   "metadata": {
    "tags": [
     "hide-cell"
    ]
   },
   "outputs": [],
   "source": [
    "n.lines[\"s_nom\"] = 0.0\n",
    "n.optimize()\n",
    "n.generators_t.p"
   ]
  },
  {
   "cell_type": "markdown",
   "metadata": {},
   "source": [
    "**Task 2:** Double the wind capacity. How is the electricity price affected? What generator is price-setting?"
   ]
  },
  {
   "cell_type": "code",
   "execution_count": null,
   "metadata": {
    "tags": [
     "hide-cell"
    ]
   },
   "outputs": [],
   "source": [
    "n.generators.loc[\"A wind\", \"p_nom\"] *= 2\n",
    "n.optimize()\n",
    "n.buses_t.marginal_price"
   ]
  },
  {
   "cell_type": "markdown",
   "metadata": {},
   "source": [
    "**Task 3:** Region A brings a new 1000 MW nuclear power plant into operation with an estimated marginal electricity generation cost of 20 €/MWh. Will that affect the electricity price?"
   ]
  },
  {
   "cell_type": "code",
   "execution_count": null,
   "metadata": {
    "tags": [
     "hide-cell"
    ]
   },
   "outputs": [],
   "source": [
    "n.add(\n",
    "    \"Generator\",\n",
    "    \"A nuclear\",\n",
    "    bus=\"A\",\n",
    "    carrier=\"nuclear\",\n",
    "    p_nom=1000,\n",
    "    marginal_cost=20,\n",
    ")\n",
    "n.optimize()\n",
    "n.buses_t.marginal_price"
   ]
  },
  {
   "cell_type": "markdown",
   "metadata": {},
   "source": []
  }
 ],
 "metadata": {
  "kernelspec": {
   "display_name": "",
   "language": "python",
   "name": ""
  },
  "language_info": {
   "codemirror_mode": {
    "name": "ipython",
    "version": 3
   },
   "file_extension": ".py",
   "mimetype": "text/x-python",
   "name": "python",
   "nbconvert_exporter": "python",
   "pygments_lexer": "ipython3",
   "version": "3.12.0"
  }
 },
 "nbformat": 4,
 "nbformat_minor": 4
}
